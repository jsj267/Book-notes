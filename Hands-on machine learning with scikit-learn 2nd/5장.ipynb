{
 "cells": [
  {
   "cell_type": "code",
   "execution_count": 1,
   "metadata": {},
   "outputs": [],
   "source": [
    "import warnings\n",
    "warnings.filterwarnings(\"ignore\")"
   ]
  },
  {
   "cell_type": "markdown",
   "metadata": {},
   "source": [
    "# SVM\n",
    "- 다목적 머신러닝 : 선형, 비선형 분류, 회귀, 이상치 탐색에 사용 가능\n",
    "- 복잡한 분류문제, 작거나 중간 크기의 데이터셋에 적합"
   ]
  },
  {
   "cell_type": "markdown",
   "metadata": {},
   "source": [
    "## 선형 SVM 분류\n",
    "- 데이터를 분류하면서 가장 폭이 넓은 도로가 되는 결정 경계를 찾는 방법. =Large margin classification\n",
    "- 도로 바깥쪽에 결정 경계에 영향을 미치는 샘플이 있는데 이 샘플을 support vector라고 한다.\n",
    "- 스케일에 민감함. 도로 모양이 달라지기 때문.\n",
    "\n",
    "### 하드 마진 분류 / 소프트 마진 분류\n",
    "- 하드 마진 분류 : 모든 샘플이 도로 바깥쪽에 올바르게 분류되어있는 분류.\n",
    "    + 그러나 문제점이 있음. 데이터가 선형적으로 구분되어있어야 제대로 작동하며 이상치에 민감함.\n",
    "- 소프트 마진 분류 : 하드 마진 분류는 현실적으로 어려운 부분이 있기 때문에 마진 안에 또는 결정 경계 반대쪽에 있는 마진 오류를 어느 정도 감수하고(하이퍼파라미터 C가 조절) 결정 경계를 만드는 것.\n",
    "    +  C=하드하게 분류하는 정도. C를 낮추면 마진이 넓어지고 과대적합을 막을 수 있다."
   ]
  },
  {
   "cell_type": "code",
   "execution_count": 2,
   "metadata": {},
   "outputs": [
    {
     "data": {
      "text/plain": [
       "Pipeline(memory=None,\n",
       "         steps=[('scaler',\n",
       "                 StandardScaler(copy=True, with_mean=True, with_std=True)),\n",
       "                ('linear_svc',\n",
       "                 LinearSVC(C=1, class_weight=None, dual=True,\n",
       "                           fit_intercept=True, intercept_scaling=1,\n",
       "                           loss='hinge', max_iter=1000, multi_class='ovr',\n",
       "                           penalty='l2', random_state=None, tol=0.0001,\n",
       "                           verbose=0))],\n",
       "         verbose=False)"
      ]
     },
     "execution_count": 2,
     "metadata": {},
     "output_type": "execute_result"
    }
   ],
   "source": [
    "import numpy as np\n",
    "from sklearn import datasets\n",
    "from sklearn.pipeline import Pipeline\n",
    "from sklearn.preprocessing import StandardScaler\n",
    "from sklearn.svm import LinearSVC\n",
    "\n",
    "iris = datasets.load_iris()\n",
    "X = iris[\"data\"][:, (2,3)]\n",
    "y = (iris[\"target\"]==2).astype(np.float64)\n",
    "\n",
    "svm_clf = Pipeline([\n",
    "    (\"scaler\", StandardScaler()),\n",
    "    (\"linear_svc\", LinearSVC(C=1, loss=\"hinge\")) # hinge loss = max(0, 1-t)\n",
    "    #또는 (\"linear_svc\",SVC(kernel=\"linear\", C=1))로 쓸 수 있다.\n",
    "])\n",
    "\n",
    "svm_clf.fit(X,y)"
   ]
  },
  {
   "cell_type": "code",
   "execution_count": 3,
   "metadata": {},
   "outputs": [
    {
     "data": {
      "text/plain": [
       "array([1.])"
      ]
     },
     "execution_count": 3,
     "metadata": {},
     "output_type": "execute_result"
    }
   ],
   "source": [
    "svm_clf.predict([[5.5,1.7]])"
   ]
  },
  {
   "cell_type": "markdown",
   "metadata": {},
   "source": [
    "## 비선형 SVM 분류"
   ]
  },
  {
   "cell_type": "markdown",
   "metadata": {},
   "source": [
    "### 다항 특성 추가 + linear SVM"
   ]
  },
  {
   "cell_type": "code",
   "execution_count": 4,
   "metadata": {},
   "outputs": [],
   "source": [
    "from sklearn.datasets import make_moons\n",
    "from sklearn.pipeline import Pipeline\n",
    "from sklearn.preprocessing import PolynomialFeatures\n",
    "\n",
    "X, y = make_moons(n_samples=100, noise=0.15)\n",
    "polynomial_svm_clf = Pipeline([\n",
    "    (\"poly_features\", PolynomialFeatures(degree=3)),\n",
    "    (\"scaler\", StandardScaler()),\n",
    "    (\"svm_clf\", LinearSVC(C=10, loss='hinge'))\n",
    "])"
   ]
  },
  {
   "cell_type": "code",
   "execution_count": 5,
   "metadata": {},
   "outputs": [
    {
     "data": {
      "text/plain": [
       "Pipeline(memory=None,\n",
       "         steps=[('poly_features',\n",
       "                 PolynomialFeatures(degree=3, include_bias=True,\n",
       "                                    interaction_only=False, order='C')),\n",
       "                ('scaler',\n",
       "                 StandardScaler(copy=True, with_mean=True, with_std=True)),\n",
       "                ('svm_clf',\n",
       "                 LinearSVC(C=10, class_weight=None, dual=True,\n",
       "                           fit_intercept=True, intercept_scaling=1,\n",
       "                           loss='hinge', max_iter=1000, multi_class='ovr',\n",
       "                           penalty='l2', random_state=None, tol=0.0001,\n",
       "                           verbose=0))],\n",
       "         verbose=False)"
      ]
     },
     "execution_count": 5,
     "metadata": {},
     "output_type": "execute_result"
    }
   ],
   "source": [
    "polynomial_svm_clf.fit(X,y)"
   ]
  },
  {
   "cell_type": "code",
   "execution_count": 6,
   "metadata": {},
   "outputs": [
    {
     "data": {
      "text/plain": [
       "<Figure size 640x480 with 1 Axes>"
      ]
     },
     "metadata": {},
     "output_type": "display_data"
    }
   ],
   "source": [
    "import matplotlib.pyplot as plt\n",
    "\n",
    "def plot_dataset(X, y, axes):\n",
    "    plt.plot(X[:,0][y==0], X[:,1][y==0], \"bs\")\n",
    "    plt.plot(X[:,0][y==1], X[:,1][y==1], \"g^\")\n",
    "    plt.axis(axes)\n",
    "    plt.grid(True, which=\"both\")\n",
    "    plt.xlabel(\"x1\")\n",
    "    plt.ylabel(\"x2\")\n",
    "\n",
    "def plot_predictions(clf, axes):\n",
    "    x0s = np.linspace(axes[0], axes[1], 100)\n",
    "    x1s = np.linspace(axes[2], axes[3], 100)\n",
    "    x0, x1 = np.meshgrid(x0s, x1s)\n",
    "    X = np.c_[x0.ravel(), x1.ravel()]\n",
    "    y_pred = clf.predict(X).reshape(x0.shape)\n",
    "    y_decision = clf.decision_function(X).reshape(x0.shape)\n",
    "    plt.contourf(x0,x1, y_pred, alpha=0.2)\n",
    "    #plt.contourf(x0,x1, y_decision, alpha=0.2)\n",
    "    \n",
    "plot_predictions(polynomial_svm_clf, [-1.5, 2.5, -1, 1.5])\n",
    "plot_dataset(X, y, [-1.5, 2.5, -1, 1.5])\n",
    "plt.show()"
   ]
  },
  {
   "cell_type": "markdown",
   "metadata": {},
   "source": [
    "### 다항식 커널\n",
    "- 위에서처럼 특성을 추가하는 것은 모델을 잘 예측하는 방법 중에 하나이지만 많은 특성을 만들 게 되므로 모델을 느리게 만든다.\n",
    "- SVM에서 커널 트릭을 통해 실제로 특성을 추가하지 않으면서 특성을 추가한 것 같은 결과를 낼 수 있다. "
   ]
  },
  {
   "cell_type": "code",
   "execution_count": 7,
   "metadata": {
    "scrolled": true
   },
   "outputs": [
    {
     "data": {
      "text/plain": [
       "Pipeline(memory=None,\n",
       "         steps=[('scaler',\n",
       "                 StandardScaler(copy=True, with_mean=True, with_std=True)),\n",
       "                ('svm_clf',\n",
       "                 SVC(C=5, break_ties=False, cache_size=200, class_weight=None,\n",
       "                     coef0=1, decision_function_shape='ovr', degree=3,\n",
       "                     gamma='scale', kernel='poly', max_iter=-1,\n",
       "                     probability=False, random_state=None, shrinking=True,\n",
       "                     tol=0.001, verbose=False))],\n",
       "         verbose=False)"
      ]
     },
     "execution_count": 7,
     "metadata": {},
     "output_type": "execute_result"
    }
   ],
   "source": [
    "from sklearn.svm import SVC\n",
    "poly_kernel_svm_clf = Pipeline([\n",
    "    (\"scaler\", StandardScaler()),\n",
    "    (\"svm_clf\", SVC(kernel=\"poly\", degree=3, coef0=1, C=5)) #coef0: 모델이 높은 차수와 낮은 차수에 얼마나 영향을 받는가\n",
    "])\n",
    "poly_kernel_svm_clf.fit(X,y)"
   ]
  },
  {
   "cell_type": "code",
   "execution_count": 8,
   "metadata": {},
   "outputs": [
    {
     "data": {
      "image/png": "[encoded data removed]",
      "text/plain": [
       "<Figure size 432x288 with 1 Axes>"
      ]
     },
     "metadata": {
      "needs_background": "light"
     },
     "output_type": "display_data"
    }
   ],
   "source": [
    "plot_predictions(poly_kernel_svm_clf, [-1.5, 2.5, -1, 1.5])\n",
    "plot_dataset(X, y, [-1.5, 2.5, -1, 1.5])\n",
    "plt.show()"
   ]
  },
  {
   "cell_type": "markdown",
   "metadata": {},
   "source": [
    "### 유사도 특성\n",
    ": 각 샘플이 특정 랜드마크와 얼마나 닮았는지(=거리)를 특성으로 추가하는 방법. \n",
    "- ex) 1차원 데이터에 대해 2개의 랜드마크와의 거리를 특성으로 추가하면 (원래 특성 제외)특성이 2개가 된다. -> 선형적 분류 가능해짐.\n",
    "- 랜드마크 선택 방법 : 데이터 셋에 있는 모든 샘플 위치를 랜드마크로 설정한 뒤 훈련시킨다. \n",
    "- 단, 원래 데이터 셋이 n개의 특성, m개의 샘플로 이루어져있다고 할 때 유사도 특성을 이용할 경우 m개의 특성, m개의 샘플로 변환되어 훈련 세트가 클 경우 더 많은 특성이 생성된다.\n",
    "- 책에서 유사도를 계산하는 함수로는 가우시안 방사 기저 함수(RBF; radial basis function)을 사용함."
   ]
  },
  {
   "cell_type": "markdown",
   "metadata": {},
   "source": [
    "### 가우시안 RBF 커널\n",
    "- 유사도 방식에 rbf커널 트릭을 이용."
   ]
  },
  {
   "cell_type": "code",
   "execution_count": 9,
   "metadata": {},
   "outputs": [
    {
     "data": {
      "text/plain": [
       "Pipeline(memory=None,\n",
       "         steps=[('scaler',\n",
       "                 StandardScaler(copy=True, with_mean=True, with_std=True)),\n",
       "                ('svm_clf',\n",
       "                 SVC(C=0.001, break_ties=False, cache_size=200,\n",
       "                     class_weight=None, coef0=0.0,\n",
       "                     decision_function_shape='ovr', degree=3, gamma=5,\n",
       "                     kernel='rbf', max_iter=-1, probability=False,\n",
       "                     random_state=None, shrinking=True, tol=0.001,\n",
       "                     verbose=False))],\n",
       "         verbose=False)"
      ]
     },
     "execution_count": 9,
     "metadata": {},
     "output_type": "execute_result"
    }
   ],
   "source": [
    "rbf_kernel_svm_clf = Pipeline([\n",
    "    ('scaler', StandardScaler()),\n",
    "    ('svm_clf', SVC(kernel='rbf', gamma=5, C=0.001)) #gamma는 유사도 함수의 종 너비를 조절하는데 C와 마찬가지로 규제의 역할을 한다.\n",
    "])\n",
    "rbf_kernel_svm_clf.fit(X, y)"
   ]
  },
  {
   "cell_type": "markdown",
   "metadata": {},
   "source": [
    "### 커널 선택\n",
    "- 보통 선형 커널. LinearSVC가 SVC(kernel=\"linear\")보다 훨씬 빠르다.\n",
    "- 훈련 세트가 너무 크지 않다면 가우시안 RBF커널.\n",
    "- 다른 훈련 데이터에 특화된 커널이 있다면 그 커널로. ex) 문자열 커널. 텍스트 문서나 DNA 서열을 분류할 때 사용."
   ]
  },
  {
   "cell_type": "markdown",
   "metadata": {},
   "source": [
    "### 계산복잡도\n",
    "- LinearSVC\n",
    "    + 선형 SVM을 위한 최적회된 알고리즘을 구현한 liblinear 라이브러리를 기반으로 한다. \n",
    "    + O(m * n). 훈련 샘플과 특성 수에 선형적으로 증가.\n",
    "- SVC\n",
    "    + 커널 트릭 알고리즘을 구현한 libsvm 라이브러리를 기반으로 한다. \n",
    "    + O(m^2 * n) ~ O(m^3 * n). 샘플 수가 엄청나게 많은 경우에는 훈련이 오래걸리지만 특성 수가 많은 경우에는 괜찮음."
   ]
  },
  {
   "cell_type": "markdown",
   "metadata": {},
   "source": [
    "## SVM 회귀\n",
    "- SVC와는 달리 margin안에 최대한 많은 샘플이 위치하도록 하는 것이 목표. margin 바깥에 있는 샘플들이 마진 오류가 된다.\n",
    "- 새로운 샘플이 추가되어도 그 샘플이 마진 안에 있다면 모델에 영향을 주지 않기 때문에 epsilon에 민감하지 않다고 한다.(epsilon-insensitive)"
   ]
  },
  {
   "cell_type": "code",
   "execution_count": 10,
   "metadata": {},
   "outputs": [],
   "source": [
    "m = 50\n",
    "X = 2 * np.random.rand(m, 1)\n",
    "y = (4 + 3 * X + np.random.randn(m, 1)).ravel()"
   ]
  },
  {
   "cell_type": "code",
   "execution_count": 11,
   "metadata": {},
   "outputs": [
    {
     "data": {
      "text/plain": [
       "LinearSVR(C=1.0, dual=True, epsilon=1.5, fit_intercept=True,\n",
       "          intercept_scaling=1.0, loss='epsilon_insensitive', max_iter=1000,\n",
       "          random_state=None, tol=0.0001, verbose=0)"
      ]
     },
     "execution_count": 11,
     "metadata": {},
     "output_type": "execute_result"
    }
   ],
   "source": [
    "# 선형 svr\n",
    "from sklearn.svm import LinearSVR\n",
    "\n",
    "svm_reg = LinearSVR(epsilon=1.5) # epsilon: 마진 폭 조정 \n",
    "svm_reg.fit(X,y)"
   ]
  },
  {
   "cell_type": "code",
   "execution_count": 12,
   "metadata": {},
   "outputs": [
    {
     "data": {
      "text/plain": [
       "array([8.21549402])"
      ]
     },
     "execution_count": 12,
     "metadata": {},
     "output_type": "execute_result"
    }
   ],
   "source": [
    "svm_reg.predict([[1.5]])"
   ]
  },
  {
   "cell_type": "code",
   "execution_count": 13,
   "metadata": {},
   "outputs": [
    {
     "data": {
      "text/plain": [
       "SVR(C=100, cache_size=200, coef0=0.0, degree=2, epsilon=0.1, gamma='scale',\n",
       "    kernel='poly', max_iter=-1, shrinking=True, tol=0.001, verbose=False)"
      ]
     },
     "execution_count": 13,
     "metadata": {},
     "output_type": "execute_result"
    }
   ],
   "source": [
    "# 비선형 svr\n",
    "m = 100\n",
    "X = 2 * np.random.rand(m, 1) - 1\n",
    "y = (0.2 + 0.1 * X + 0.5 * X**2 + np.random.randn(m, 1)/10).ravel()\n",
    "\n",
    "from sklearn.svm import SVR\n",
    "\n",
    "svm_poly_reg = SVR(kernel=\"poly\", degree=2, C=100, epsilon=0.1)\n",
    "svm_poly_reg.fit(X,y)"
   ]
  },
  {
   "cell_type": "code",
   "execution_count": 14,
   "metadata": {},
   "outputs": [
    {
     "data": {
      "text/plain": [
       "1.475"
      ]
     },
     "execution_count": 14,
     "metadata": {},
     "output_type": "execute_result"
    }
   ],
   "source": [
    "x0 = 1.5\n",
    "y = 0.2 + 0.1 * x0 + 0.5 * x0**2\n",
    "y"
   ]
  },
  {
   "cell_type": "code",
   "execution_count": 15,
   "metadata": {},
   "outputs": [
    {
     "data": {
      "text/plain": [
       "array([1.37863424])"
      ]
     },
     "execution_count": 15,
     "metadata": {},
     "output_type": "execute_result"
    }
   ],
   "source": [
    "svm_poly_reg.predict([[1.5]])"
   ]
  },
  {
   "cell_type": "markdown",
   "metadata": {},
   "source": [
    "### 연습문제\n",
    "8. 선형적으로 분리되는 데이터셋으로 SVC, LinearSVC, SGDClassifier 모델 훈련시키고 비교하기."
   ]
  },
  {
   "cell_type": "code",
   "execution_count": 16,
   "metadata": {},
   "outputs": [],
   "source": [
    "iris = datasets.load_iris()\n",
    "X = iris[\"data\"][:, (2, 3)]  # 꽃잎 길이, 꽃잎 너비\n",
    "y = iris[\"target\"]\n",
    "\n",
    "setosa_or_versicolor = (y == 0) | (y == 1)\n",
    "X = X[setosa_or_versicolor]\n",
    "y = y[setosa_or_versicolor]"
   ]
  },
  {
   "cell_type": "code",
   "execution_count": 17,
   "metadata": {},
   "outputs": [],
   "source": [
    "scaler = StandardScaler()\n",
    "X_sclaed = scaler.fit_transform(X)"
   ]
  },
  {
   "cell_type": "code",
   "execution_count": 18,
   "metadata": {},
   "outputs": [
    {
     "data": {
      "text/plain": [
       "SVC(C=1.0, break_ties=False, cache_size=200, class_weight=None, coef0=0.0,\n",
       "    decision_function_shape='ovr', degree=3, gamma='scale', kernel='linear',\n",
       "    max_iter=-1, probability=False, random_state=None, shrinking=True,\n",
       "    tol=0.001, verbose=False)"
      ]
     },
     "execution_count": 18,
     "metadata": {},
     "output_type": "execute_result"
    }
   ],
   "source": [
    "prac8_svm_clf = SVC(kernel=\"linear\")\n",
    "prac8_svm_clf.fit(X_sclaed,y)"
   ]
  },
  {
   "cell_type": "code",
   "execution_count": 19,
   "metadata": {},
   "outputs": [
    {
     "data": {
      "text/plain": [
       "LinearSVC(C=1.0, class_weight=None, dual=True, fit_intercept=True,\n",
       "          intercept_scaling=1, loss='squared_hinge', max_iter=1000,\n",
       "          multi_class='ovr', penalty='l2', random_state=None, tol=0.0001,\n",
       "          verbose=0)"
      ]
     },
     "execution_count": 19,
     "metadata": {},
     "output_type": "execute_result"
    }
   ],
   "source": [
    "prac8_linsvm_clf = LinearSVC()\n",
    "prac8_linsvm_clf.fit(X_sclaed,y)"
   ]
  },
  {
   "cell_type": "code",
   "execution_count": 20,
   "metadata": {},
   "outputs": [
    {
     "data": {
      "text/plain": [
       "SGDClassifier(alpha=0.0001, average=False, class_weight=None,\n",
       "              early_stopping=False, epsilon=0.1, eta0=0.0, fit_intercept=True,\n",
       "              l1_ratio=0.15, learning_rate='optimal', loss='hinge',\n",
       "              max_iter=1000, n_iter_no_change=5, n_jobs=None, penalty='l2',\n",
       "              power_t=0.5, random_state=None, shuffle=True, tol=0.001,\n",
       "              validation_fraction=0.1, verbose=0, warm_start=False)"
      ]
     },
     "execution_count": 20,
     "metadata": {},
     "output_type": "execute_result"
    }
   ],
   "source": [
    "from sklearn.linear_model import SGDClassifier\n",
    "prac8_sgd_clf = SGDClassifier()\n",
    "prac8_sgd_clf.fit(X_sclaed, y)"
   ]
  },
  {
   "cell_type": "code",
   "execution_count": 21,
   "metadata": {},
   "outputs": [
    {
     "data": {
      "image/png": "[encoded data removed]",
      "text/plain": [
       "<Figure size 432x288 with 1 Axes>"
      ]
     },
     "metadata": {
      "needs_background": "light"
     },
     "output_type": "display_data"
    }
   ],
   "source": [
    "plt.plot(X[:,0][y==0], X[:,1][y==0], \"bs\")\n",
    "plt.plot(X[:,0][y==1], X[:,1][y==1], \"r^\")\n",
    "\n",
    "# 기울기, 절편 생성\n",
    "w1 = -prac8_linsvm_clf.coef_[0, 0]/prac8_linsvm_clf.coef_[0, 1]\n",
    "b1 = -prac8_linsvm_clf.intercept_[0]/prac8_linsvm_clf.coef_[0, 1]\n",
    "w2 = -prac8_svm_clf.coef_[0, 0]/prac8_svm_clf.coef_[0, 1]\n",
    "b2 = -prac8_svm_clf.intercept_[0]/prac8_svm_clf.coef_[0, 1]\n",
    "w3 = -prac8_sgd_clf.coef_[0, 0]/prac8_sgd_clf.coef_[0, 1]\n",
    "b3 = -prac8_sgd_clf.intercept_[0]/prac8_sgd_clf.coef_[0, 1]\n",
    "\n",
    "# x=-10, 10 일 때 선 위의 점을 생성\n",
    "line1 = scaler.inverse_transform([[-10, -10 * w1 + b1], [10, 10 * w1 + b1]])\n",
    "line2 = scaler.inverse_transform([[-10, -10 * w2 + b2], [10, 10 * w2 + b2]])\n",
    "line3 = scaler.inverse_transform([[-10, -10 * w3 + b3], [10, 10 * w3 + b3]])\n",
    "\n",
    "plt.plot(line1[:, 0], line1[:, 1], \"k:\", label=\"LinearSVC\")\n",
    "plt.plot(line2[:, 0], line2[:, 1], \"g--\", linewidth=2, label=\"SVC\")\n",
    "plt.plot(line3[:, 0], line3[:, 1], \"p-\", label=\"SGDClassifier\")\n",
    "plt.xlabel(\"Petal length\")\n",
    "plt.ylabel(\"Petal width\")\n",
    "plt.legend()\n",
    "plt.axis([0.5, 5.5, 0, 2])\n",
    "plt.show()"
   ]
  },
  {
   "cell_type": "markdown",
   "metadata": {},
   "source": [
    "9. MNIST 데이터셋에 SVM 훈련"
   ]
  },
  {
   "cell_type": "code",
   "execution_count": 22,
   "metadata": {},
   "outputs": [],
   "source": [
    "from sklearn.datasets import fetch_openml\n",
    "mnist = fetch_openml('mnist_784', version=1)"
   ]
  },
  {
   "cell_type": "code",
   "execution_count": 23,
   "metadata": {},
   "outputs": [],
   "source": [
    "X = mnist[\"data\"]\n",
    "y = mnist[\"target\"].astype(np.uint8)\n",
    "\n",
    "X_train = X[:60000]\n",
    "y_train = y[:60000]\n",
    "X_test = X[60000:]\n",
    "y_test = y[60000:]"
   ]
  },
  {
   "cell_type": "code",
   "execution_count": 24,
   "metadata": {},
   "outputs": [],
   "source": [
    "scaler = StandardScaler()\n",
    "X_train_scaled = scaler.fit_transform(X_train)\n",
    "X_test_scaled = scaler.transform(X_test)"
   ]
  },
  {
   "cell_type": "code",
   "execution_count": 25,
   "metadata": {},
   "outputs": [
    {
     "data": {
      "text/plain": [
       "LinearSVC(C=1.0, class_weight=None, dual=True, fit_intercept=True,\n",
       "          intercept_scaling=1, loss='squared_hinge', max_iter=1000,\n",
       "          multi_class='ovr', penalty='l2', random_state=44, tol=0.0001,\n",
       "          verbose=0)"
      ]
     },
     "execution_count": 25,
     "metadata": {},
     "output_type": "execute_result"
    }
   ],
   "source": [
    "lin_clf = LinearSVC(random_state=44)\n",
    "lin_clf.fit(X_train_scaled, y_train)"
   ]
  },
  {
   "cell_type": "code",
   "execution_count": 26,
   "metadata": {},
   "outputs": [],
   "source": [
    "lin_pred = lin_clf.predict(X_train_scaled)"
   ]
  },
  {
   "cell_type": "code",
   "execution_count": 27,
   "metadata": {},
   "outputs": [
    {
     "data": {
      "text/plain": [
       "0.9202333333333333"
      ]
     },
     "execution_count": 27,
     "metadata": {},
     "output_type": "execute_result"
    }
   ],
   "source": [
    "from sklearn.metrics import accuracy_score\n",
    "accuracy_score(y_train, lin_pred)"
   ]
  },
  {
   "cell_type": "code",
   "execution_count": 28,
   "metadata": {},
   "outputs": [
    {
     "data": {
      "text/plain": [
       "SVC(C=1.0, break_ties=False, cache_size=200, class_weight=None, coef0=0.0,\n",
       "    decision_function_shape='ovr', degree=3, gamma='scale', kernel='rbf',\n",
       "    max_iter=-1, probability=False, random_state=44, shrinking=True, tol=0.001,\n",
       "    verbose=False)"
      ]
     },
     "execution_count": 28,
     "metadata": {},
     "output_type": "execute_result"
    }
   ],
   "source": [
    "svc_clf = SVC(random_state=44)\n",
    "svc_clf.fit(X_train_scaled, y_train)"
   ]
  },
  {
   "cell_type": "code",
   "execution_count": 29,
   "metadata": {},
   "outputs": [],
   "source": [
    "svc_pred = svc_clf.predict(X_train_scaled)"
   ]
  },
  {
   "cell_type": "code",
   "execution_count": 30,
   "metadata": {},
   "outputs": [
    {
     "data": {
      "text/plain": [
       "0.9866333333333334"
      ]
     },
     "execution_count": 30,
     "metadata": {},
     "output_type": "execute_result"
    }
   ],
   "source": [
    "accuracy_score(y_train, svc_pred)"
   ]
  },
  {
   "cell_type": "code",
   "execution_count": 31,
   "metadata": {},
   "outputs": [
    {
     "name": "stdout",
     "output_type": "stream",
     "text": [
      "Fitting 3 folds for each of 30 candidates, totalling 90 fits\n",
      "[CV] C=5.662721401543578, gamma=0.03455716848703137 ..................\n"
     ]
    },
    {
     "name": "stderr",
     "output_type": "stream",
     "text": [
      "[Parallel(n_jobs=1)]: Using backend SequentialBackend with 1 concurrent workers.\n"
     ]
    },
    {
     "name": "stdout",
     "output_type": "stream",
     "text": [
      "[CV] .. C=5.662721401543578, gamma=0.03455716848703137, total=144.5min\n",
      "[CV] C=5.662721401543578, gamma=0.03455716848703137 ..................\n"
     ]
    },
    {
     "name": "stderr",
     "output_type": "stream",
     "text": [
      "[Parallel(n_jobs=1)]: Done   1 out of   1 | elapsed: 144.5min remaining:    0.0s\n"
     ]
    },
    {
     "name": "stdout",
     "output_type": "stream",
     "text": [
      "[CV] .. C=5.662721401543578, gamma=0.03455716848703137, total=145.9min\n",
      "[CV] C=5.662721401543578, gamma=0.03455716848703137 ..................\n",
      "[CV] .. C=5.662721401543578, gamma=0.03455716848703137, total=139.3min\n",
      "[CV] C=2.3732628817488566, gamma=0.043886557728846795 ................\n",
      "[CV]  C=2.3732628817488566, gamma=0.043886557728846795, total=145.0min\n",
      "[CV] C=2.3732628817488566, gamma=0.043886557728846795 ................\n",
      "[CV]  C=2.3732628817488566, gamma=0.043886557728846795, total=143.5min\n",
      "[CV] C=2.3732628817488566, gamma=0.043886557728846795 ................\n",
      "[CV]  C=2.3732628817488566, gamma=0.043886557728846795, total=145.4min\n",
      "[CV] C=1.3695621879305444, gamma=0.0014374996730040894 ...............\n",
      "[CV]  C=1.3695621879305444, gamma=0.0014374996730040894, total=13.1min\n",
      "[CV] C=1.3695621879305444, gamma=0.0014374996730040894 ...............\n",
      "[CV]  C=1.3695621879305444, gamma=0.0014374996730040894, total=12.8min\n",
      "[CV] C=1.3695621879305444, gamma=0.0014374996730040894 ...............\n",
      "[CV]  C=1.3695621879305444, gamma=0.0014374996730040894, total=13.0min\n",
      "[CV] C=4.051863815366912, gamma=0.03485461954016755 ..................\n",
      "[CV] .. C=4.051863815366912, gamma=0.03485461954016755, total=144.2min\n",
      "[CV] C=4.051863815366912, gamma=0.03485461954016755 ..................\n",
      "[CV] .. C=4.051863815366912, gamma=0.03485461954016755, total=140.0min\n",
      "[CV] C=4.051863815366912, gamma=0.03485461954016755 ..................\n",
      "[CV] .. C=4.051863815366912, gamma=0.03485461954016755, total=140.9min\n",
      "[CV] C=10.514950777371398, gamma=0.046631479111305975 ................\n",
      "[CV]  C=10.514950777371398, gamma=0.046631479111305975, total=149.0min\n",
      "[CV] C=10.514950777371398, gamma=0.046631479111305975 ................\n",
      "[CV]  C=10.514950777371398, gamma=0.046631479111305975, total=149.1min\n",
      "[CV] C=10.514950777371398, gamma=0.046631479111305975 ................\n",
      "[CV]  C=10.514950777371398, gamma=0.046631479111305975, total=149.2min\n",
      "[CV] C=6.417158844753104, gamma=0.0023050134884304067 ................\n",
      "[CV] . C=6.417158844753104, gamma=0.0023050134884304067, total=15.8min\n",
      "[CV] C=6.417158844753104, gamma=0.0023050134884304067 ................\n",
      "[CV] . C=6.417158844753104, gamma=0.0023050134884304067, total=15.9min\n",
      "[CV] C=6.417158844753104, gamma=0.0023050134884304067 ................\n",
      "[CV] . C=6.417158844753104, gamma=0.0023050134884304067, total=15.8min\n",
      "[CV] C=7.783807903833625, gamma=0.002419317976618161 .................\n",
      "[CV] .. C=7.783807903833625, gamma=0.002419317976618161, total=16.5min\n",
      "[CV] C=7.783807903833625, gamma=0.002419317976618161 .................\n",
      "[CV] .. C=7.783807903833625, gamma=0.002419317976618161, total=16.2min\n",
      "[CV] C=7.783807903833625, gamma=0.002419317976618161 .................\n",
      "[CV] .. C=7.783807903833625, gamma=0.002419317976618161, total=16.6min\n",
      "[CV] C=5.592330934906139, gamma=0.005779774646789236 .................\n",
      "[CV] .. C=5.592330934906139, gamma=0.005779774646789236, total=32.6min\n",
      "[CV] C=5.592330934906139, gamma=0.005779774646789236 .................\n",
      "[CV] .. C=5.592330934906139, gamma=0.005779774646789236, total=32.6min\n",
      "[CV] C=5.592330934906139, gamma=0.005779774646789236 .................\n",
      "[CV] .. C=5.592330934906139, gamma=0.005779774646789236, total=32.7min\n",
      "[CV] C=5.925994669994429, gamma=0.028886395174123843 .................\n",
      "[CV] . C=5.925994669994429, gamma=0.028886395174123843, total=138.4min\n",
      "[CV] C=5.925994669994429, gamma=0.028886395174123843 .................\n",
      "[CV] . C=5.925994669994429, gamma=0.028886395174123843, total=138.1min\n",
      "[CV] C=5.925994669994429, gamma=0.028886395174123843 .................\n",
      "[CV] . C=5.925994669994429, gamma=0.028886395174123843, total=139.5min\n",
      "[CV] C=3.372066639626108, gamma=0.0032838240589505977 ................\n",
      "[CV] . C=3.372066639626108, gamma=0.0032838240589505977, total=21.7min\n",
      "[CV] C=3.372066639626108, gamma=0.0032838240589505977 ................\n",
      "[CV] . C=3.372066639626108, gamma=0.0032838240589505977, total=20.4min\n",
      "[CV] C=3.372066639626108, gamma=0.0032838240589505977 ................\n",
      "[CV] . C=3.372066639626108, gamma=0.0032838240589505977, total=20.2min\n",
      "[CV] C=7.065533672127374, gamma=0.004845989372002633 .................\n",
      "[CV] .. C=7.065533672127374, gamma=0.004845989372002633, total=27.7min\n",
      "[CV] C=7.065533672127374, gamma=0.004845989372002633 .................\n",
      "[CV] .. C=7.065533672127374, gamma=0.004845989372002633, total=27.6min\n",
      "[CV] C=7.065533672127374, gamma=0.004845989372002633 .................\n",
      "[CV] .. C=7.065533672127374, gamma=0.004845989372002633, total=27.9min\n",
      "[CV] C=6.706482727563968, gamma=0.0011393271964916449 ................\n",
      "[CV] . C=6.706482727563968, gamma=0.0011393271964916449, total=10.8min\n",
      "[CV] C=6.706482727563968, gamma=0.0011393271964916449 ................\n",
      "[CV] . C=6.706482727563968, gamma=0.0011393271964916449, total=10.8min\n",
      "[CV] C=6.706482727563968, gamma=0.0011393271964916449 ................\n",
      "[CV] . C=6.706482727563968, gamma=0.0011393271964916449, total=10.8min\n",
      "[CV] C=5.948279572449468, gamma=0.011514562274215408 .................\n",
      "[CV] .. C=5.948279572449468, gamma=0.011514562274215408, total=68.0min\n",
      "[CV] C=5.948279572449468, gamma=0.011514562274215408 .................\n",
      "[CV] .. C=5.948279572449468, gamma=0.011514562274215408, total=67.6min\n",
      "[CV] C=5.948279572449468, gamma=0.011514562274215408 .................\n",
      "[CV] .. C=5.948279572449468, gamma=0.011514562274215408, total=68.5min\n",
      "[CV] C=1.3366034177703414, gamma=0.005116651497413341 ................\n",
      "[CV] . C=1.3366034177703414, gamma=0.005116651497413341, total=28.8min\n",
      "[CV] C=1.3366034177703414, gamma=0.005116651497413341 ................\n",
      "[CV] . C=1.3366034177703414, gamma=0.005116651497413341, total=28.9min\n",
      "[CV] C=1.3366034177703414, gamma=0.005116651497413341 ................\n",
      "[CV] . C=1.3366034177703414, gamma=0.005116651497413341, total=29.0min\n",
      "[CV] C=1.3689053418605404, gamma=0.056356449697701545 ................\n",
      "[CV]  C=1.3689053418605404, gamma=0.056356449697701545, total=154.9min\n",
      "[CV] C=1.3689053418605404, gamma=0.056356449697701545 ................\n",
      "[CV]  C=1.3689053418605404, gamma=0.056356449697701545, total=166.1min\n",
      "[CV] C=1.3689053418605404, gamma=0.056356449697701545 ................\n",
      "[CV]  C=1.3689053418605404, gamma=0.056356449697701545, total=176.8min\n",
      "[CV] C=10.927227350706728, gamma=0.001689926251596323 ................\n",
      "[CV] . C=10.927227350706728, gamma=0.001689926251596323, total=15.4min\n",
      "[CV] C=10.927227350706728, gamma=0.001689926251596323 ................\n",
      "[CV] . C=10.927227350706728, gamma=0.001689926251596323, total=13.2min\n",
      "[CV] C=10.927227350706728, gamma=0.001689926251596323 ................\n",
      "[CV] . C=10.927227350706728, gamma=0.001689926251596323, total=13.1min\n",
      "[CV] C=3.0635872982991876, gamma=0.0026589203709734286 ...............\n",
      "[CV]  C=3.0635872982991876, gamma=0.0026589203709734286, total=17.3min\n",
      "[CV] C=3.0635872982991876, gamma=0.0026589203709734286 ...............\n",
      "[CV]  C=3.0635872982991876, gamma=0.0026589203709734286, total=17.4min\n",
      "[CV] C=3.0635872982991876, gamma=0.0026589203709734286 ...............\n",
      "[CV]  C=3.0635872982991876, gamma=0.0026589203709734286, total=17.6min\n",
      "[CV] C=6.299927711173767, gamma=0.011851480210301305 .................\n",
      "[CV] .. C=6.299927711173767, gamma=0.011851480210301305, total=69.1min\n",
      "[CV] C=6.299927711173767, gamma=0.011851480210301305 .................\n",
      "[CV] .. C=6.299927711173767, gamma=0.011851480210301305, total=69.0min\n",
      "[CV] C=6.299927711173767, gamma=0.011851480210301305 .................\n",
      "[CV] .. C=6.299927711173767, gamma=0.011851480210301305, total=69.6min\n",
      "[CV] C=5.907975701859451, gamma=0.0024978300834799486 ................\n",
      "[CV] . C=5.907975701859451, gamma=0.0024978300834799486, total=16.7min\n",
      "[CV] C=5.907975701859451, gamma=0.0024978300834799486 ................\n",
      "[CV] . C=5.907975701859451, gamma=0.0024978300834799486, total=16.8min\n",
      "[CV] C=5.907975701859451, gamma=0.0024978300834799486 ................\n",
      "[CV] . C=5.907975701859451, gamma=0.0024978300834799486, total=16.8min\n",
      "[CV] C=10.565119980327184, gamma=0.009484278964680189 ................\n",
      "[CV] . C=10.565119980327184, gamma=0.009484278964680189, total=58.9min\n",
      "[CV] C=10.565119980327184, gamma=0.009484278964680189 ................\n",
      "[CV] . C=10.565119980327184, gamma=0.009484278964680189, total=60.6min\n",
      "[CV] C=10.565119980327184, gamma=0.009484278964680189 ................\n"
     ]
    },
    {
     "name": "stdout",
     "output_type": "stream",
     "text": [
      "[CV] . C=10.565119980327184, gamma=0.009484278964680189, total=58.8min\n",
      "[CV] C=6.59324918331834, gamma=0.0010943997388843038 .................\n",
      "[CV] .. C=6.59324918331834, gamma=0.0010943997388843038, total=10.6min\n",
      "[CV] C=6.59324918331834, gamma=0.0010943997388843038 .................\n",
      "[CV] .. C=6.59324918331834, gamma=0.0010943997388843038, total=10.6min\n",
      "[CV] C=6.59324918331834, gamma=0.0010943997388843038 .................\n",
      "[CV] .. C=6.59324918331834, gamma=0.0010943997388843038, total=10.7min\n",
      "[CV] C=5.271756400722156, gamma=0.004040106283404179 .................\n",
      "[CV] .. C=5.271756400722156, gamma=0.004040106283404179, total=23.7min\n",
      "[CV] C=5.271756400722156, gamma=0.004040106283404179 .................\n",
      "[CV] .. C=5.271756400722156, gamma=0.004040106283404179, total=24.1min\n",
      "[CV] C=5.271756400722156, gamma=0.004040106283404179 .................\n",
      "[CV] .. C=5.271756400722156, gamma=0.004040106283404179, total=23.9min\n",
      "[CV] C=6.173612486718838, gamma=0.0012845795379680632 ................\n",
      "[CV] . C=6.173612486718838, gamma=0.0012845795379680632, total=11.4min\n",
      "[CV] C=6.173612486718838, gamma=0.0012845795379680632 ................\n",
      "[CV] . C=6.173612486718838, gamma=0.0012845795379680632, total=11.5min\n",
      "[CV] C=6.173612486718838, gamma=0.0012845795379680632 ................\n",
      "[CV] . C=6.173612486718838, gamma=0.0012845795379680632, total=11.3min\n",
      "[CV] C=7.012332703268904, gamma=0.08693077216844841 ..................\n",
      "[CV] .. C=7.012332703268904, gamma=0.08693077216844841, total=181.4min\n",
      "[CV] C=7.012332703268904, gamma=0.08693077216844841 ..................\n",
      "[CV] .. C=7.012332703268904, gamma=0.08693077216844841, total=183.9min\n",
      "[CV] C=7.012332703268904, gamma=0.08693077216844841 ..................\n",
      "[CV] .. C=7.012332703268904, gamma=0.08693077216844841, total=186.5min\n",
      "[CV] C=2.2824953897078553, gamma=0.003455805015138572 ................\n",
      "[CV] . C=2.2824953897078553, gamma=0.003455805015138572, total=21.1min\n",
      "[CV] C=2.2824953897078553, gamma=0.003455805015138572 ................\n",
      "[CV] . C=2.2824953897078553, gamma=0.003455805015138572, total=20.9min\n",
      "[CV] C=2.2824953897078553, gamma=0.003455805015138572 ................\n",
      "[CV] . C=2.2824953897078553, gamma=0.003455805015138572, total=21.2min\n",
      "[CV] C=5.450912260348682, gamma=0.007784460655206376 .................\n",
      "[CV] .. C=5.450912260348682, gamma=0.007784460655206376, total=46.2min\n",
      "[CV] C=5.450912260348682, gamma=0.007784460655206376 .................\n",
      "[CV] .. C=5.450912260348682, gamma=0.007784460655206376, total=46.1min\n",
      "[CV] C=5.450912260348682, gamma=0.007784460655206376 .................\n",
      "[CV] .. C=5.450912260348682, gamma=0.007784460655206376, total=46.4min\n",
      "[CV] C=3.7297781609855276, gamma=0.01251132224056385 .................\n",
      "[CV] .. C=3.7297781609855276, gamma=0.01251132224056385, total=72.1min\n",
      "[CV] C=3.7297781609855276, gamma=0.01251132224056385 .................\n",
      "[CV] .. C=3.7297781609855276, gamma=0.01251132224056385, total=72.5min\n",
      "[CV] C=3.7297781609855276, gamma=0.01251132224056385 .................\n",
      "[CV] .. C=3.7297781609855276, gamma=0.01251132224056385, total=72.7min\n",
      "[CV] C=2.2547236191351963, gamma=0.041335637768527174 ................\n",
      "[CV]  C=2.2547236191351963, gamma=0.041335637768527174, total=143.6min\n",
      "[CV] C=2.2547236191351963, gamma=0.041335637768527174 ................\n",
      "[CV]  C=2.2547236191351963, gamma=0.041335637768527174, total=144.6min\n",
      "[CV] C=2.2547236191351963, gamma=0.041335637768527174 ................\n",
      "[CV]  C=2.2547236191351963, gamma=0.041335637768527174, total=143.5min\n",
      "[CV] C=9.219817333231177, gamma=0.01090257651609044 ..................\n",
      "[CV] ... C=9.219817333231177, gamma=0.01090257651609044, total=65.6min\n",
      "[CV] C=9.219817333231177, gamma=0.01090257651609044 ..................\n",
      "[CV] ... C=9.219817333231177, gamma=0.01090257651609044, total=65.7min\n",
      "[CV] C=9.219817333231177, gamma=0.01090257651609044 ..................\n",
      "[CV] ... C=9.219817333231177, gamma=0.01090257651609044, total=65.8min\n",
      "[CV] C=5.084627664105426, gamma=0.003040349479230069 .................\n",
      "[CV] .. C=5.084627664105426, gamma=0.003040349479230069, total=19.2min\n",
      "[CV] C=5.084627664105426, gamma=0.003040349479230069 .................\n",
      "[CV] .. C=5.084627664105426, gamma=0.003040349479230069, total=19.3min\n",
      "[CV] C=5.084627664105426, gamma=0.003040349479230069 .................\n",
      "[CV] .. C=5.084627664105426, gamma=0.003040349479230069, total=19.0min\n"
     ]
    },
    {
     "name": "stderr",
     "output_type": "stream",
     "text": [
      "[Parallel(n_jobs=1)]: Done  90 out of  90 | elapsed: 5677.7min finished\n"
     ]
    },
    {
     "data": {
      "text/plain": [
       "RandomizedSearchCV(cv=3, error_score=nan,\n",
       "                   estimator=SVC(C=1.0, break_ties=False, cache_size=200,\n",
       "                                 class_weight=None, coef0=0.0,\n",
       "                                 decision_function_shape='ovr', degree=3,\n",
       "                                 gamma='scale', kernel='rbf', max_iter=-1,\n",
       "                                 probability=False, random_state=44,\n",
       "                                 shrinking=True, tol=0.001, verbose=False),\n",
       "                   iid='deprecated', n_iter=30, n_jobs=None,\n",
       "                   param_distributions={'C': <scipy.stats._distn_infrastructure.rv_frozen object at 0x0000017472DEC4E0>,\n",
       "                                        'gamma': <scipy.stats._distn_infrastructure.rv_frozen object at 0x000001746E54FDA0>},\n",
       "                   pre_dispatch='2*n_jobs', random_state=None, refit=True,\n",
       "                   return_train_score=False, scoring=None, verbose=2)"
      ]
     },
     "execution_count": 31,
     "metadata": {},
     "output_type": "execute_result"
    }
   ],
   "source": [
    "from sklearn.model_selection import RandomizedSearchCV\n",
    "from scipy.stats import reciprocal, uniform\n",
    "\n",
    "param_distributions = {\n",
    "    'gamma':reciprocal(0.001, 0.1),\n",
    "    'C':uniform(1,10)\n",
    "}\n",
    "\n",
    "rnd_search_cv = RandomizedSearchCV(svc_clf, param_distributions, n_iter=30, verbose=2, cv=3)\n",
    "rnd_search_cv.fit(X_train_scaled, y_train)"
   ]
  },
  {
   "cell_type": "code",
   "execution_count": 32,
   "metadata": {},
   "outputs": [
    {
     "data": {
      "text/plain": [
       "0.9677500000000001"
      ]
     },
     "execution_count": 32,
     "metadata": {},
     "output_type": "execute_result"
    }
   ],
   "source": [
    "rnd_search_cv.best_score_"
   ]
  },
  {
   "cell_type": "code",
   "execution_count": 33,
   "metadata": {},
   "outputs": [
    {
     "data": {
      "text/plain": [
       "SVC(C=6.706482727563968, break_ties=False, cache_size=200, class_weight=None,\n",
       "    coef0=0.0, decision_function_shape='ovr', degree=3,\n",
       "    gamma=0.0011393271964916449, kernel='rbf', max_iter=-1, probability=False,\n",
       "    random_state=44, shrinking=True, tol=0.001, verbose=False)"
      ]
     },
     "execution_count": 33,
     "metadata": {},
     "output_type": "execute_result"
    }
   ],
   "source": [
    "rnd_search_cv.best_estimator_"
   ]
  },
  {
   "cell_type": "code",
   "execution_count": null,
   "metadata": {},
   "outputs": [],
   "source": [
    "y_pred = rnd_search_cv.predict(X_train_scaled)\n",
    "accuracy_score(y_train, y_pred)"
   ]
  },
  {
   "cell_type": "code",
   "execution_count": null,
   "metadata": {},
   "outputs": [],
   "source": [
    "y_pred = rnd_search_cv.best_estimator_.predict(X_test_scaled)\n",
    "accuracy_score(y_test, y_pred)"
   ]
  },
  {
   "cell_type": "markdown",
   "metadata": {},
   "source": [
    "10. 캘리포니아 주택가격 데이터셋에 SVM 훈련"
   ]
  },
  {
   "cell_type": "code",
   "execution_count": null,
   "metadata": {},
   "outputs": [],
   "source": [
    "from sklearn.datasets import fetch_california_housing\n",
    "\n",
    "housing = fetch_california_housing()\n",
    "X = housing[\"data\"]\n",
    "y = housing[\"target\"]"
   ]
  },
  {
   "cell_type": "code",
   "execution_count": null,
   "metadata": {},
   "outputs": [],
   "source": [
    "y"
   ]
  },
  {
   "cell_type": "code",
   "execution_count": null,
   "metadata": {},
   "outputs": [],
   "source": [
    "from sklearn.model_selection import train_test_split\n",
    "\n",
    "X_train, X_test, y_train, y_test = train_test_split(X, y, test_size=0.2, random_state=44)"
   ]
  },
  {
   "cell_type": "code",
   "execution_count": null,
   "metadata": {},
   "outputs": [],
   "source": [
    "scaler = Standar\n",
    "X_train_scaled = scaler.fit_transform(X_train)\n",
    "X_test_scaled = scaler.transform(X_test)"
   ]
  },
  {
   "cell_type": "code",
   "execution_count": null,
   "metadata": {},
   "outputs": [],
   "source": [
    "lin_clf = LinearSVC(random_state=44)\n",
    "lin_clf.fit(X_train_sclaed)"
   ]
  },
  {
   "cell_type": "code",
   "execution_count": null,
   "metadata": {},
   "outputs": [],
   "source": [
    "lin_pred = lin_clf.predict(X_train_sclaed)"
   ]
  },
  {
   "cell_type": "code",
   "execution_count": null,
   "metadata": {},
   "outputs": [],
   "source": [
    "score_(y_train, lin_pred)"
   ]
  },
  {
   "cell_type": "code",
   "execution_count": null,
   "metadata": {},
   "outputs": [],
   "source": [
    "svm_clf = SVC(random_state=44)\n",
    "svm_clf.fit(X_train_scaled)"
   ]
  },
  {
   "cell_type": "code",
   "execution_count": null,
   "metadata": {},
   "outputs": [],
   "source": [
    "svm_pred = svm_clf.predict(X_train_scaled)"
   ]
  },
  {
   "cell_type": "code",
   "execution_count": null,
   "metadata": {},
   "outputs": [],
   "source": [
    "score_(y_train, svm_pred)"
   ]
  },
  {
   "cell_type": "code",
   "execution_count": null,
   "metadata": {},
   "outputs": [],
   "source": []
  },
  {
   "cell_type": "code",
   "execution_count": null,
   "metadata": {},
   "outputs": [],
   "source": [
    "ㅕㅑ어"
   ]
  }
 ],
 "metadata": {
  "kernelspec": {
   "display_name": "Python 3",
   "language": "python",
   "name": "python3"
  },
  "language_info": {
   "codemirror_mode": {
    "name": "ipython",
    "version": 3
   },
   "file_extension": ".py",
   "mimetype": "text/x-python",
   "name": "python",
   "nbconvert_exporter": "python",
   "pygments_lexer": "ipython3",
   "version": "3.5.6"
  }
 },
 "nbformat": 4,
 "nbformat_minor": 2
}
