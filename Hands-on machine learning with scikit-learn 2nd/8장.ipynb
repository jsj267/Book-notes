{
 "cells": [
  {
   "cell_type": "markdown",
   "metadata": {},
   "source": [
    "# 차원 축소"
   ]
  },
  {
   "cell_type": "code",
   "execution_count": 1,
   "metadata": {},
   "outputs": [],
   "source": [
    "import warnings\n",
    "warnings.filterwarnings(\"ignore\")"
   ]
  },
  {
   "cell_type": "markdown",
   "metadata": {},
   "source": [
    "차원을 축소시키면\n",
    "1. 일반적으로 훈련 속도만 빨라진다.\n",
    "    - 정보를 유실하기 때문에 성능이 나빠지거나 \n",
    "    - 잡음이나 불필요한 세부사항을 걸러내는 경우도 있기 때문에 성능이 좋아지기도.\n",
    "    - 원래 데이터로 먼저 훈련해보는 것이 좋다.\n",
    "2. 시각화에 유용하다.\n",
    "    - 저차원의 그래프를 그리거나\n",
    "    - 군집같은 시각적인 패턴을 발견할 수 있다.\n",
    "    - 설명력을 높일 수도 있음."
   ]
  },
  {
   "cell_type": "markdown",
   "metadata": {},
   "source": [
    "## 차원의 저주"
   ]
  },
  {
   "cell_type": "markdown",
   "metadata": {},
   "source": [
    "- 공간이 고차원일수록 임의의 두 점 사이의 평균거리가 길다.\n",
    "- 즉, 고차원일 때 훨씬 많은 외삽extrapolation을 해야하므로 저차원일 때보다 예측이 불안정하다.\n",
    "    - 외삽extrapolation : 특정한 두 점 바깥에 놓여있는 가능한 값을 구하는 것 \n",
    "    - 보간intrapolation : 특정한 두 점 안쪽에 놓여있는 가능한 값을 구하는 것"
   ]
  },
  {
   "cell_type": "markdown",
   "metadata": {},
   "source": [
    "차원의 저주 해결\n",
    "1. 훈련 데이터 개수를 늘리는 것.\n",
    "    - 그러나 차원이 늘어날수록 필요한 훈련 데이터 개수가 기하급수적으로 늘어남.\n",
    "2. 차원 축소\n",
    "    - 접근 방법 : 투영projection, 매니폴드\n",
    "    - 알고리즘 : PCA, LLE 등"
   ]
  },
  {
   "cell_type": "markdown",
   "metadata": {},
   "source": [
    "## 차원 축소를 위한 접근 방법"
   ]
  },
  {
   "cell_type": "markdown",
   "metadata": {},
   "source": [
    "### 투영, Projection"
   ]
  },
  {
   "cell_type": "markdown",
   "metadata": {},
   "source": [
    "공간의 훈련 샘플이 어떤 저차원 subspace에 놓여있을 수 있다. 이 subspace에 수직으로 투영하면 저차원 공간에 위치한 훈련 샘플을 얻을 수 있다. "
   ]
  },
  {
   "cell_type": "markdown",
   "metadata": {},
   "source": [
    "### 매니폴드 학습"
   ]
  },
  {
   "cell_type": "markdown",
   "metadata": {},
   "source": [
    "d차원 매니폴드란, d차원 초평면처럼 보일 수 있는 n차원 공간의 일부. ex)스위스롤. d=2, n=3"
   ]
  },
  {
   "cell_type": "markdown",
   "metadata": {},
   "source": [
    "매니폴드 가정 : 고차원 데이터셋이 저차원 매니폴드에 가깝게 놓여있다는 가정.                             \n",
    "많은 차원 축소 알고리즘이 이 매니폴드 가정을 두고 매니폴드를 학습함."
   ]
  },
  {
   "cell_type": "markdown",
   "metadata": {},
   "source": [
    "그리고 매니폴드 가정과 함께 '데이터가 매니폴드 공간에 표현되면 분류, 회귀 등이 쉬워질 것'이라는 가정이 병행되곤 하는데,                            \n",
    "항상 그렇지만은 않아서(결정경계가 더 복잡해 질 수 있음) 차원 축소는 반드시 성능을 높이거나 쉬운 결정경계를 만드는 것은 아니다."
   ]
  },
  {
   "cell_type": "markdown",
   "metadata": {},
   "source": [
    "## 주성분 분석(PCA; principal component analysis)"
   ]
  },
  {
   "cell_type": "markdown",
   "metadata": {},
   "source": [
    "데이터에 가장 가까운 초평면을 정의 + 투영"
   ]
  },
  {
   "cell_type": "markdown",
   "metadata": {},
   "source": [
    "### 분산이 최대가 되는 축 찾기\n",
    "1. 데이터가 투영된 축의 분산이 최대가 되는 것이 정보 손실을 최소화할 수 있으므로 분산이 최대가 되는 축을 찾는다.\n",
    "2. 첫번째 축에 직교하고 남은 분산을 최대한 보존하는 두 번째, 세 번째, ... n번째 축을 찾는다.\n",
    "3. i번째 축의 중심이 (0,0)인 단위 벡터가 i번째 주성분이라고 한다."
   ]
  },
  {
   "cell_type": "code",
   "execution_count": 4,
   "metadata": {},
   "outputs": [],
   "source": [
    "import numpy as np"
   ]
  },
  {
   "cell_type": "code",
   "execution_count": 17,
   "metadata": {},
   "outputs": [
    {
     "data": {
      "text/plain": [
       "array([[-1.01570027, -0.55091331, -0.26132626],\n",
       "       [-0.00771675,  0.59958572,  0.03507755],\n",
       "       [-0.95317135, -0.46453691, -0.24920288],\n",
       "       [-0.92012304,  0.21009593,  0.02182381],\n",
       "       [-0.76309739,  0.158261  ,  0.19152496],\n",
       "       [ 1.11816122,  0.32508721,  0.31710572],\n",
       "       [-1.02258878, -0.64384064, -0.13368695],\n",
       "       [ 0.67351984, -0.27342519, -0.00787835],\n",
       "       [ 1.01619558,  0.51546608,  0.46783297],\n",
       "       [ 0.54957723,  0.67728016,  0.2340159 ],\n",
       "       [-0.98960443,  0.00886617, -0.12152034],\n",
       "       [ 1.13248106,  0.28229967,  0.06972972],\n",
       "       [-0.99337712, -0.26832824, -0.15761101],\n",
       "       [-0.94763679, -0.4995849 , -0.13927911],\n",
       "       [ 1.10095709,  0.1706481 ,  0.09790432],\n",
       "       [-0.34604591,  0.45334414,  0.06433843],\n",
       "       [ 0.69102621, -0.27337761, -0.05926516],\n",
       "       [ 0.68302902,  0.70421846,  0.24642318],\n",
       "       [ 0.8774031 , -0.16775101, -0.02162333],\n",
       "       [-1.06090127, -0.48213721, -0.38573526],\n",
       "       [ 0.52336644,  0.66585845,  0.39019099],\n",
       "       [-0.94419403, -0.61502157, -0.47610118],\n",
       "       [-0.9716288 ,  0.00742468, -0.18764369],\n",
       "       [-1.10560661, -0.31903307, -0.17189644],\n",
       "       [ 1.1748694 ,  0.15718214,  0.26579776],\n",
       "       [ 0.91337123, -0.1608149 ,  0.02223257],\n",
       "       [-0.28688829,  0.56373778,  0.11210787],\n",
       "       [ 1.10247263,  0.21024786,  0.17826927],\n",
       "       [-0.93581594,  0.14433427, -0.07641252],\n",
       "       [ 0.6617217 ,  0.7350669 ,  0.37436649],\n",
       "       [ 0.09896169,  0.60619461,  0.14346668],\n",
       "       [-1.08103158, -0.54686117, -0.37070336],\n",
       "       [ 0.03004261,  0.60541538,  0.13736259],\n",
       "       [ 0.97846627, -0.04833433,  0.09297312],\n",
       "       [ 0.97257451,  0.15564902,  0.2668735 ],\n",
       "       [-0.06924261,  0.57029162,  0.32415098],\n",
       "       [ 0.01690169,  0.64656545,  0.15571838],\n",
       "       [-0.40544483,  0.39226596, -0.06928305],\n",
       "       [ 0.64162827,  0.68484229,  0.13122889],\n",
       "       [-0.64012055,  0.41578899,  0.27325686],\n",
       "       [ 0.7326402 ,  0.75604792,  0.25979142],\n",
       "       [-0.44999735,  0.52952899,  0.15964958],\n",
       "       [-0.98461065,  0.02344158,  0.1002999 ],\n",
       "       [ 1.11939222,  0.24629838,  0.11781711],\n",
       "       [ 0.78441066,  0.64312236,  0.25192037],\n",
       "       [ 0.16636498,  0.71958358,  0.17445205],\n",
       "       [-0.67371747,  0.3528853 , -0.07109776],\n",
       "       [ 1.11429663,  0.41882472,  0.31705263],\n",
       "       [-0.11381596,  0.6373893 ,  0.28640517],\n",
       "       [-0.45471725,  0.43269163, -0.10303808],\n",
       "       [-1.15790478, -0.39121007, -0.13498243],\n",
       "       [ 0.83494104,  0.66412252,  0.25913415],\n",
       "       [-0.46940298,  0.39639057,  0.0903395 ],\n",
       "       [ 1.14845951,  0.31874645,  0.23025679],\n",
       "       [ 0.24039921,  0.59890442,  0.07305738],\n",
       "       [ 1.10567699,  0.21166076,  0.14297884],\n",
       "       [-1.01152009, -0.449484  , -0.33508853],\n",
       "       [ 0.52519411,  0.64730821,  0.43823703],\n",
       "       [-1.09575714, -0.16906908,  0.05828838],\n",
       "       [ 0.58692443,  0.62026757,  0.25317605]])"
      ]
     },
     "execution_count": 17,
     "metadata": {},
     "output_type": "execute_result"
    }
   ],
   "source": [
    "np.random.seed(4)\n",
    "m = 60\n",
    "w1, w2 = 0.1, 0.3\n",
    "noise = 0.1\n",
    "\n",
    "angles = np.random.rand(m) * 3 * np.pi / 2 - 0.5\n",
    "X = np.empty((m, 3))\n",
    "X[:, 0] = np.cos(angles) + np.sin(angles)/2 + noise * np.random.randn(m) / 2\n",
    "X[:, 1] = np.sin(angles) * 0.7 + noise * np.random.randn(m) / 2\n",
    "X[:, 2] = X[:, 0] * w1 + X[:, 1] * w2 + noise * np.random.randn(m)\n",
    "X"
   ]
  },
  {
   "cell_type": "code",
   "execution_count": 18,
   "metadata": {},
   "outputs": [
    {
     "data": {
      "text/plain": [
       "(array([0.93636116, 0.29854881, 0.18465208]),\n",
       " array([-0.34027485,  0.90119108,  0.2684542 ]))"
      ]
     },
     "execution_count": 18,
     "metadata": {},
     "output_type": "execute_result"
    }
   ],
   "source": [
    "# 주성분 찾기 - 특잇값분해(SVD; singular value decomposition)\n",
    "X_centered = X - X.mean(axis=0) #평균 0으로\n",
    "U, s, Vt = np.linalg.svd(X_centered)\n",
    "c1 = Vt.T[:,0] #주성분1\n",
    "c2 = Vt.T[:,1] #주성분2\n",
    "c1, c2"
   ]
  },
  {
   "cell_type": "markdown",
   "metadata": {},
   "source": [
    "### 투영하기\n",
    "d차원으로 축소된 데이터셋 X_projected = X * d개의 주성분으로 이루어진 행렬 W_d"
   ]
  },
  {
   "cell_type": "code",
   "execution_count": 23,
   "metadata": {},
   "outputs": [
    {
     "data": {
      "text/plain": [
       "array([[-1.26203346, -0.42067648],\n",
       "       [ 0.08001485,  0.35272239],\n",
       "       [-1.17545763, -0.36085729],\n",
       "       [-0.89305601,  0.30862856],\n",
       "       [-0.73016287,  0.25404049]])"
      ]
     },
     "execution_count": 23,
     "metadata": {},
     "output_type": "execute_result"
    }
   ],
   "source": [
    "W2 = Vt.T[:, :2]\n",
    "X2D = X_centered.dot(W2)\n",
    "X2D[:5]"
   ]
  },
  {
   "cell_type": "code",
   "execution_count": 28,
   "metadata": {},
   "outputs": [
    {
     "data": {
      "text/plain": [
       "array([[ 1.26203346,  0.42067648],\n",
       "       [-0.08001485, -0.35272239],\n",
       "       [ 1.17545763,  0.36085729],\n",
       "       [ 0.89305601, -0.30862856],\n",
       "       [ 0.73016287, -0.25404049]])"
      ]
     },
     "execution_count": 28,
     "metadata": {},
     "output_type": "execute_result"
    }
   ],
   "source": [
    "#사이킷런으로 투영하기 - 마찬가지로 SVD 분해 사용, 자동으로 0에 데이터 평균을 맞춘다.\n",
    "from sklearn.decomposition import PCA\n",
    "\n",
    "pca = PCA(n_components = 2) #사용할 주성분 개수\n",
    "X2D_sklearn = pca.fit_transform(X)\n",
    "X2D_sklearn[:5]"
   ]
  },
  {
   "cell_type": "code",
   "execution_count": 29,
   "metadata": {},
   "outputs": [
    {
     "data": {
      "text/plain": [
       "True"
      ]
     },
     "execution_count": 29,
     "metadata": {},
     "output_type": "execute_result"
    }
   ],
   "source": [
    "np.allclose(X2D, X2D_sklearn) #동일"
   ]
  },
  {
   "cell_type": "code",
   "execution_count": 25,
   "metadata": {},
   "outputs": [
    {
     "data": {
      "text/plain": [
       "array([[-0.93636116,  0.34027485],\n",
       "       [-0.29854881, -0.90119108],\n",
       "       [-0.18465208, -0.2684542 ]])"
      ]
     },
     "execution_count": 25,
     "metadata": {},
     "output_type": "execute_result"
    }
   ],
   "source": [
    "# 주성분 행렬\n",
    "pca.components_.T "
   ]
  },
  {
   "cell_type": "code",
   "execution_count": 26,
   "metadata": {
    "scrolled": true
   },
   "outputs": [
    {
     "data": {
      "text/plain": [
       "array([0.84248607, 0.14631839])"
      ]
     },
     "execution_count": 26,
     "metadata": {},
     "output_type": "execute_result"
    }
   ],
   "source": [
    "#주성분 분산 비율\n",
    "pca.explained_variance_ratio_"
   ]
  },
  {
   "cell_type": "markdown",
   "metadata": {},
   "source": [
    "### 적절한 주성분 개수 선택하기"
   ]
  },
  {
   "cell_type": "code",
   "execution_count": 30,
   "metadata": {},
   "outputs": [],
   "source": [
    "from sklearn.datasets import fetch_openml\n",
    "from sklearn.model_selection import train_test_split\n",
    "\n",
    "mnist = fetch_openml('mnist_784', version=1)\n",
    "mnist.target = mnist.target.astype(np.uint8)\n",
    "\n",
    "X = mnist[\"data\"]\n",
    "y = mnist[\"target\"]\n",
    "\n",
    "X_train, X_test, y_train, y_test = train_test_split(X, y)"
   ]
  },
  {
   "cell_type": "code",
   "execution_count": 33,
   "metadata": {},
   "outputs": [
    {
     "data": {
      "text/plain": [
       "154"
      ]
     },
     "execution_count": 33,
     "metadata": {},
     "output_type": "execute_result"
    }
   ],
   "source": [
    "pca = PCA()\n",
    "pca.fit(X_train)\n",
    "cumsum = np.cumsum(pca.explained_variance_ratio_) #원소 누적합\n",
    "d = np.argmax(cumsum >= 0.95) + 1\n",
    "d"
   ]
  },
  {
   "cell_type": "code",
   "execution_count": 41,
   "metadata": {},
   "outputs": [
    {
     "data": {
      "image/png": "[encoded data removed]",
      "text/plain": [
       "<Figure size 432x288 with 1 Axes>"
      ]
     },
     "metadata": {
      "needs_background": "light"
     },
     "output_type": "display_data"
    }
   ],
   "source": [
    "import matplotlib.pyplot as plt\n",
    "plt.plot(cumsum)\n",
    "plt.axis([0,400, 0,1])\n",
    "plt.xlabel(\"Dimensions\")\n",
    "plt.ylabel(\"Explained Variance\")\n",
    "plt.grid()\n",
    "plt.show()"
   ]
  },
  {
   "cell_type": "code",
   "execution_count": 34,
   "metadata": {},
   "outputs": [],
   "source": [
    "#d를 지정하지 않고 보존 분산 비율을 지정할 수도 있음.\n",
    "pca = PCA(n_components=0.95)\n",
    "X_reduced = pca.fit_transform(X_train)"
   ]
  },
  {
   "cell_type": "code",
   "execution_count": 44,
   "metadata": {},
   "outputs": [
    {
     "data": {
      "text/plain": [
       "((52500, 784), (52500, 154))"
      ]
     },
     "execution_count": 44,
     "metadata": {},
     "output_type": "execute_result"
    }
   ],
   "source": [
    "# 차원수 784 -> 154\n",
    "X_train.shape, X_reduced.shape"
   ]
  },
  {
   "cell_type": "code",
   "execution_count": 43,
   "metadata": {},
   "outputs": [
    {
     "data": {
      "text/plain": [
       "(52500, 784)"
      ]
     },
     "execution_count": 43,
     "metadata": {},
     "output_type": "execute_result"
    }
   ],
   "source": []
  },
  {
   "cell_type": "code",
   "execution_count": null,
   "metadata": {},
   "outputs": [],
   "source": []
  },
  {
   "cell_type": "markdown",
   "metadata": {},
   "source": [
    "## 커널 PCA"
   ]
  },
  {
   "cell_type": "code",
   "execution_count": null,
   "metadata": {},
   "outputs": [],
   "source": []
  },
  {
   "cell_type": "markdown",
   "metadata": {},
   "source": [
    "## 지역 선형 임베딩 LLE; locally linear embedding"
   ]
  },
  {
   "cell_type": "code",
   "execution_count": null,
   "metadata": {},
   "outputs": [],
   "source": []
  },
  {
   "cell_type": "markdown",
   "metadata": {},
   "source": [
    "## 다른 차원 축소 기법"
   ]
  },
  {
   "cell_type": "code",
   "execution_count": null,
   "metadata": {},
   "outputs": [],
   "source": []
  }
 ],
 "metadata": {
  "kernelspec": {
   "display_name": "Python 3",
   "language": "python",
   "name": "python3"
  },
  "language_info": {
   "codemirror_mode": {
    "name": "ipython",
    "version": 3
   },
   "file_extension": ".py",
   "mimetype": "text/x-python",
   "name": "python",
   "nbconvert_exporter": "python",
   "pygments_lexer": "ipython3",
   "version": "3.5.6"
  }
 },
 "nbformat": 4,
 "nbformat_minor": 2
}
