{
 "cells": [
  {
   "cell_type": "markdown",
   "metadata": {},
   "source": [
    "## 비지도 학습\n",
    "- 군집, 이상치 탐지, 밀도 추정"
   ]
  },
  {
   "cell_type": "markdown",
   "metadata": {},
   "source": [
    "### 군집\n",
    "- 샘플을 비슷한 샘플끼리 클러스터로 할당하는 작업.\n",
    "- 군집이 사용되는 애플리케이션\n",
    "    + 고객 분류 -> 고객 이해, 추천 시스템 : 비슷한 성향의 고객을 클러스터로 모아 동일한 클러스터 내의 고객이 사용하는 제품을 추천하여 추천 시스템을 만들 수 있음.\n",
    "    + 데이터 분석 : 데이터를 클러스터로 나눠 각 클러스터를 따로 분석할 수 있음. 또는 전체적인 데이터 구조를 파악할 수 있음. 등간, 비율척도를 명목척도로 만들 수 있음.\n",
    "    + 차원 축소 기법 : 군집 알고리즘을 적용하면 각 클러스터에 대한 샘플의 친화성affinity을 구할 수 있는데, 샘플의 특성 벡터를 클러스터 친화성 벡터로 바꿀 수 있어 차원 축소가 가능하다.\n",
    "    + 이상치 탐지 : 모든 클러스터에 친화성이 낮은 샘플은 이상치일 가능성이 높음. 제조 분야, 부정 거래 탐지 등.\n",
    "    + 준지도 학습 : 레이블 데이터가 적을 경우, 이 데이터를 이용해 모든 샘플에 레이블을 설정. 이후 지도 학습 알고리즘을 사용하여 분석할 수 있음.\n",
    "    + 검색 엔진의 이미지 검색 : 데이터베이스에 있는 이미지를 군집 알고리즘을 적용. 이후 검색 이미지가 해당되는 클러스터의 이미지를 반환.\n",
    "    + 이미지 분할 : 색 값을 이용해서 픽셀을 클러스터로 모은 후 각 픽셀의 색을 해당 클러스터의 평균 색 값으로 바꾼다. 이는 색상 종류를 줄여 물체의 윤곽 감지가 쉬워지므로 물체 탐지, 추적 시스템에서 활용.\n",
    "- 계층적hierarchical 클러스터링과 비계층적 클러스터링으로 나뉜다."
   ]
  },
  {
   "cell_type": "markdown",
   "metadata": {},
   "source": [
    "#### 계층적 군집분석\n",
    "- 유클리드 거리를 이용한 상향식 군집 분석 방법. 올바른 군집이라면 3가지 방식을 모두 실행해봤을 때 비슷한 군집이 생성되어야 한다.\n",
    "    + 단일기준결합방식(min, method='single') : 각 군집에서 샘플과 거리가 가장 짧은 점과의 거리를 재어, 모든 군집의 거리를 비교했을 때 거리가 가장 짧은 군집으로 할당.\n",
    "    + 완전기준결합방식(max, method='complete') : 각 군집에서 샘플과 거리가 가장 먼 점과의 거리를 재어, 모든 군집의 거리를 비교했을 때 거리가 가장 짧은 군집으로 할당. 이상치에 민감하다는 단점.\n",
    "    + 평균기준결합방식(mean, method='average') : 샘플과 각 군집의 모든 점과의 거리를 평균하여, 모든 군집의 거리를 비교했을 때 거리가 가장 짧은 군집으로 할당. \n",
    "- 탐색적 군집 방법. \n",
    "- 덴드로그램을 그려 군집 수를 사용자가 결정할 수 있다."
   ]
  },
  {
   "cell_type": "markdown",
   "metadata": {},
   "source": [
    "```python\n",
    "from scipy.cluster.hierarchy import linkage, dendrogram\n",
    "\n",
    "clusters = linkage(y, method, optimal_ordering=False)\n",
    "# y : feature (label 있을 시) 포함된 dataframe\n",
    "# method : 'single', 'complete', 'average'\n",
    "\n",
    "# 군집 수를 지정하여 cluster로 분할\n",
    "from scipy.cluster.hierarchy import fcluster\n",
    "\n",
    "pred_cluster = fcluster(clusters, t, criterion='maxclust')\n",
    "# t : criterion='maxclust' 일 경우 cluster 개수. criterion='distance' 일 경우 dendrogram의 y값.\n",
    "```"
   ]
  },
  {
   "cell_type": "markdown",
   "metadata": {},
   "source": [
    "Reference : https://joyfuls.tistory.com/64, https://blog.naver.com/PostView.nhn?blogId=httyu&logNo=221208754656"
   ]
  }
 ],
 "metadata": {
  "kernelspec": {
   "display_name": "Python 3",
   "language": "python",
   "name": "python3"
  },
  "language_info": {
   "codemirror_mode": {
    "name": "ipython",
    "version": 3
   },
   "file_extension": ".py",
   "mimetype": "text/x-python",
   "name": "python",
   "nbconvert_exporter": "python",
   "pygments_lexer": "ipython3",
   "version": "3.8.5"
  }
 },
 "nbformat": 4,
 "nbformat_minor": 4
}
