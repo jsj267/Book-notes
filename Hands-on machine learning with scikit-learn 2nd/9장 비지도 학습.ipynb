{
 "cells": [
  {
   "cell_type": "markdown",
   "metadata": {},
   "source": [
    "## 비지도 학습\n",
    "- 군집, 이상치 탐지, 밀도 추정"
   ]
  },
  {
   "cell_type": "markdown",
   "metadata": {},
   "source": [
    "### 군집\n",
    "- 샘플을 비슷한 샘플끼리 클러스터로 할당하는 작업.\n",
    "- 군집이 사용되는 애플리케이션\n",
    "    + 고객 분류 -> 고객 이해, 추천 시스템 : 비슷한 성향의 고객을 클러스터로 모아 동일한 클러스터 내의 고객이 사용하는 제품을 추천하여 추천 시스템을 만들 수 있음.\n",
    "    + 데이터 분석 : 데이터를 클러스터로 나눠 각 클러스터를 따로 분석할 수 있음.\n",
    "    + 차원 축소 기법 : \n",
    "    + 이상치 탐지 :\n",
    "    + 준지도 학습 :\n",
    "    + 검색 엔진 :\n",
    "    + 이미지 분할 : "
   ]
  },
  {
   "cell_type": "code",
   "execution_count": null,
   "metadata": {},
   "outputs": [],
   "source": []
  },
  {
   "cell_type": "code",
   "execution_count": null,
   "metadata": {},
   "outputs": [],
   "source": []
  },
  {
   "cell_type": "code",
   "execution_count": null,
   "metadata": {},
   "outputs": [],
   "source": []
  },
  {
   "cell_type": "code",
   "execution_count": null,
   "metadata": {},
   "outputs": [],
   "source": []
  }
 ],
 "metadata": {
  "kernelspec": {
   "display_name": "Python 3",
   "language": "python",
   "name": "python3"
  },
  "language_info": {
   "codemirror_mode": {
    "name": "ipython",
    "version": 3
   },
   "file_extension": ".py",
   "mimetype": "text/x-python",
   "name": "python",
   "nbconvert_exporter": "python",
   "pygments_lexer": "ipython3",
   "version": "3.8.5"
  }
 },
 "nbformat": 4,
 "nbformat_minor": 4
}
