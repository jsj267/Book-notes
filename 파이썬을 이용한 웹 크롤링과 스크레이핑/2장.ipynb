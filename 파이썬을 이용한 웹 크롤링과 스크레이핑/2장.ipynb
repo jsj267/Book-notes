{
 "cells": [
  {
   "cell_type": "markdown",
   "metadata": {},
   "source": [
    "# 2장\n",
    "### url 추출"
   ]
  },
  {
   "cell_type": "code",
   "execution_count": 1,
   "metadata": {},
   "outputs": [],
   "source": [
    "# 지정한 URL 웹 페이지 추출\n",
    "from urllib.request import urlopen\n",
    "f = urlopen('http://www.naver.com')"
   ]
  },
  {
   "cell_type": "code",
   "execution_count": 2,
   "metadata": {},
   "outputs": [
    {
     "data": {
      "text/plain": [
       "http.client.HTTPResponse"
      ]
     },
     "execution_count": 2,
     "metadata": {},
     "output_type": "execute_result"
    }
   ],
   "source": [
    "# HTTPResponse 자료형의 객체\n",
    "type(f)"
   ]
  },
  {
   "cell_type": "code",
   "execution_count": 3,
   "metadata": {},
   "outputs": [
    {
     "data": {
      "text/plain": [
       "b'<!doctype html>\\n\\n\\n\\n\\n\\n\\n\\n\\n\\n\\n\\n\\n\\n\\n\\n\\n<html lang=\"ko\">\\n<head>\\n<meta charset=\"utf-8\">\\n<meta name=\"Referrer\" content=\"origin\">\\n<meta http-equiv=\"Content-Script-Type\" content=\"text/javascript\">\\n<meta http-equiv=\"Content-Style-Type\" content=\"text/css\">\\n<meta http-equiv=\"X-UA-Compatible\" content=\"IE=edge\">\\n<meta name=\"viewport\" content=\"width=1100\">\\n<meta name=\"apple-mobile-web-app-title\" content=\"NAVER\" />\\n<meta name=\"robots\" content=\"index,nofollow\"/>\\n<meta name=\"description\" content=\"\\xeb\\x84\\xa4\\xec\\x9d\\xb4\\xeb\\xb2\\x84 \\xeb\\xa9\\x94\\xec\\x9d\\xb8\\xec\\x97\\x90\\xec\\x84\\x9c \\xeb\\x8b\\xa4\\xec\\x96\\x91\\xed\\x95\\x9c \\xec\\xa0\\x95\\xeb\\xb3\\xb4\\xec\\x99\\x80 \\xec\\x9c\\xa0\\xec\\x9a\\xa9\\xed\\x95\\x9c \\xec\\xbb\\xa8\\xed\\x85\\x90\\xec\\xb8\\xa0\\xeb\\xa5\\xbc \\xeb\\xa7\\x8c\\xeb\\x82\\x98 \\xeb\\xb3\\xb4\\xec\\x84\\xb8\\xec\\x9a\\x94\"/>\\n<meta property=\"og:title\" content=\"\\xeb\\x84\\xa4\\xec\\x9d\\xb4\\xeb\\xb2\\x84\">\\n<meta property=\"og:url\" content=\"https://www.naver.com/\">\\n<meta property=\"og:image\" content=\"https://s.pstatic.net/static/www/mobile/edit/2016/0705/mobile_212852414260.png\">\\n<meta property=\"og:description\" content=\"\\xeb\\x84\\xa4\\xec\\x9d\\xb4\\xeb\\xb2\\x84 \\xeb\\xa9\\x94\\xec\\x9d\\xb8\\xec\\x97\\x90\\xec\\x84\\x9c \\xeb\\x8b\\xa4\\xec\\x96\\x91\\xed\\x95\\x9c \\xec\\xa0\\x95\\xeb\\xb3\\xb4\\xec\\x99\\x80 \\xec\\x9c\\xa0\\xec\\x9a\\xa9\\xed\\x95\\x9c \\xec\\xbb\\xa8\\xed\\x85\\x90\\xec\\xb8\\xa0\\xeb\\xa5\\xbc \\xeb\\xa7\\x8c\\xeb\\x82\\x98 \\xeb\\xb3\\xb4\\xec\\x84\\xb8\\xec\\x9a\\x94\"/>\\n<meta name=\"twitter:card\" content=\"summary\">\\n<meta name=\"twitter:title\" content=\"\">\\n<'"
      ]
     },
     "execution_count": 3,
     "metadata": {},
     "output_type": "execute_result"
    }
   ],
   "source": [
    "# 본문 추출\n",
    "f.read()[:1000]\n",
    "#read(): Reads and returns the response body, or up to the next amt bytes.\n",
    "#한번 읽으면 다시 return 못하는 듯."
   ]
  },
  {
   "cell_type": "code",
   "execution_count": 4,
   "metadata": {},
   "outputs": [
    {
     "data": {
      "text/plain": [
       "200"
      ]
     },
     "execution_count": 4,
     "metadata": {},
     "output_type": "execute_result"
    }
   ],
   "source": [
    "# 상태 코드 추출\n",
    "f.status"
   ]
  },
  {
   "cell_type": "markdown",
   "metadata": {},
   "source": [
    "### 인코딩 방식을 추출하고 그에 맞게 디코딩하기"
   ]
  },
  {
   "cell_type": "code",
   "execution_count": 5,
   "metadata": {},
   "outputs": [
    {
     "data": {
      "text/plain": [
       "'text/html; charset=UTF-8'"
      ]
     },
     "execution_count": 5,
     "metadata": {},
     "output_type": "execute_result"
    }
   ],
   "source": [
    "# HTTP 헤더의 값 추출 -> Content-Type헤더를 참조하면 인코딩 방식을 알 수 있고, 이에 따라 문자코드(UTF-8, EUC-KR)를 지정해서 디코딩\n",
    "f.getheader('Content-Type')"
   ]
  },
  {
   "cell_type": "code",
   "execution_count": 6,
   "metadata": {},
   "outputs": [
    {
     "data": {
      "text/plain": [
       "'utf-8'"
      ]
     },
     "execution_count": 6,
     "metadata": {},
     "output_type": "execute_result"
    }
   ],
   "source": [
    "# encoding 방식(utf-8) 추출\n",
    "encoding = f.info().get_content_charset(failobj='UTF-8')\n",
    "encoding"
   ]
  },
  {
   "cell_type": "code",
   "execution_count": 7,
   "metadata": {},
   "outputs": [
    {
     "data": {
      "text/plain": [
       "'<!doctype html>\\n\\n\\n\\n\\n\\n\\n\\n\\n\\n\\n\\n\\n\\n\\n\\n\\n<html lang=\"ko\">\\n<head>\\n<meta charset=\"utf-8\">\\n<meta name=\"Referrer\" content=\"origin\">\\n<meta http-equiv=\"Content-Script-Type\" content=\"text/javascript\">\\n<meta http-equiv=\"Content-Style-Type\" content=\"text/css\">\\n<meta http-equiv=\"X-UA-Compatible\" content=\"IE=edge\">\\n<meta name=\"viewport\" content=\"width=1100\">\\n<meta name=\"apple-mobile-web-app-title\" content=\"NAVER\" />\\n<meta name=\"robots\" content=\"index,nofollow\"/>\\n<meta name=\"description\" content=\"네이버 메인에서 다양한 정보와 유용한 컨텐츠를 만나 보세요\"/>\\n<meta property=\"og:title\" content=\"네이버\">\\n<meta property=\"og:url\" content=\"https://www.naver.com/\">\\n<meta property=\"og:image\" content=\"https://s.pstatic.net/static/www/mobile/edit/2016/0705/mobile_212852414260.png\">\\n<meta property=\"og:description\" content=\"네이버 메인에서 다양한 정보와 유용한 컨텐츠를 만나 보세요\"/>\\n<meta name=\"twitter:card\" content=\"summary\">\\n<meta name=\"twitter:title\" content=\"\">\\n<meta name=\"twitter:url\" content=\"https://www.naver.com/\">\\n<meta name=\"twitter:image\" content=\"https://s.ps'"
      ]
     },
     "execution_count": 7,
     "metadata": {},
     "output_type": "execute_result"
    }
   ],
   "source": [
    "# 추출한 encoding방식으로 decoding\n",
    "f = urlopen('http://www.naver.com')\n",
    "text = f.read().decode(encoding)\n",
    "text[:1000]"
   ]
  },
  {
   "cell_type": "markdown",
   "metadata": {},
   "source": [
    "- Content-Type 헤더에서 인코딩 정보가 항상 맞는 것은 아니므로 \n",
    "- 위의 방법으로 UnicodeDecodeError가 발생하면 \n",
    "- meta 태그 또는 응답 본문의 바이트열도 확인하여 인코딩 방식을 결정해야한다.\n",
    "- `<meta charset=\"utf-8\">` 이런 식으로 앞부분에 적혀 있음."
   ]
  },
  {
   "cell_type": "code",
   "execution_count": 8,
   "metadata": {},
   "outputs": [],
   "source": [
    "import re\n",
    "import sys"
   ]
  },
  {
   "cell_type": "code",
   "execution_count": 9,
   "metadata": {},
   "outputs": [
    {
     "data": {
      "text/plain": [
       "'<!doctype html>\\n\\n\\n\\n\\n\\n\\n\\n\\n\\n\\n\\n\\n\\n\\n\\n\\n<html lang=\"ko\">\\n<head>\\n<meta charset=\"utf-8\">\\n<meta name=\"Referrer\" content=\"origin\">\\n<meta http-equiv=\"Content-Script-Type\" content=\"text/javascript\">\\n<meta http-equiv=\"Content-Style-Type\" content=\"text/css\">\\n<meta http-equiv=\"X-UA-Compatible\" content=\"IE=edge\">\\n<meta name=\"viewport\" content=\"width=1100\">\\n<meta name=\"apple-mobile-web-app-title\" content=\"NAVER\" />\\n<meta name=\"robots\" content=\"index,nofollow\"/>\\n<meta name=\"description\" content=\"��������� ������������ ��������� ��������� ��������� ������������ ������ ���������\"/>\\n<meta property=\"og:title\" content=\"���������\">\\n<meta property=\"og:url\" content=\"https://www.naver.com/\">\\n<meta property=\"og:image\" content=\"https://s.pstatic.net/static/www/mobile/edit/2016/0705/mobile_212852414260.png\">\\n<meta property=\"og:description\" content=\"��������� ������������ ��������� ��������� ��������� ������������ ������ ���������\"/>\\n<meta name=\"twitter:card\" content=\"summary\">\\n<meta name=\"twitter:title\" content=\"\">\\n<meta name=\"twitter:url\" '"
      ]
     },
     "execution_count": 9,
     "metadata": {},
     "output_type": "execute_result"
    }
   ],
   "source": [
    "f = urlopen(\"http://www.naver.com\")\n",
    "bytes_content = f.read()\n",
    "\n",
    "# 앞부분에 대체로 meta태그가 있기 때문에 앞부분만 디코딩하고, 정규표현식으로 charset값을 추출\n",
    "scanned_text = bytes_content[:1024].decode('ascii', errors='replace')\n",
    "scanned_text"
   ]
  },
  {
   "cell_type": "code",
   "execution_count": 10,
   "metadata": {},
   "outputs": [
    {
     "name": "stdout",
     "output_type": "stream",
     "text": [
      "<_sre.SRE_Match object; span=(62, 76), match='charset=\"utf-8'>\n",
      "utf-8\n"
     ]
    }
   ],
   "source": [
    "# re.search는 밑에서 자세히\n",
    "match = re.search(r'charset=[\"\\']?([\\w-]+)', scanned_text)\n",
    "print(match)\n",
    "print(match.group(1))"
   ]
  },
  {
   "cell_type": "code",
   "execution_count": 11,
   "metadata": {},
   "outputs": [
    {
     "data": {
      "text/plain": [
       "'<!doctype html>\\n\\n\\n\\n\\n\\n\\n\\n\\n\\n\\n\\n\\n\\n\\n\\n\\n<html lang=\"ko\">\\n<head>\\n<meta charset=\"utf-8\">\\n<meta name=\"Referrer\" content=\"origin\">\\n<meta http-equiv=\"Content-Script-Type\" content=\"text/javascript\">\\n<meta http-equiv=\"Content-Style-Type\" content=\"text/css\">\\n<meta http-equiv=\"X-UA-Compatible\" content=\"IE=edge\">\\n<meta name=\"viewport\" content=\"width=1100\">\\n<meta name=\"apple-mobile-web-app-title\" content=\"NAVER\" />\\n<meta name=\"robots\" content=\"index,nofollow\"/>\\n<meta name=\"description\" content=\"네이버 메인에서 다양한 정보와 유용한 컨텐츠를 만나 보세요\"/>\\n<meta property=\"og:title\" content=\"네이버\">\\n<meta property=\"og:url\" content=\"https://www.naver.com/\">\\n<meta property=\"og:image\" content=\"https://s.pstatic.net/static/www/mobile/edit/2016/0705/mobile_212852414260.png\">\\n<meta property=\"og:description\" content=\"네이버 메인에서 다양한 정보와 유용한 컨텐츠를 만나 보세요\"/>\\n<meta name=\"twitter:card\" content=\"summary\">\\n<meta name=\"twitter:title\" content=\"\">\\n<meta name=\"twitter:url\" content=\"https://www.naver.com/\">\\n<meta name=\"twitter:image\" content=\"https://s.ps'"
      ]
     },
     "execution_count": 11,
     "metadata": {},
     "output_type": "execute_result"
    }
   ],
   "source": [
    "bytes_content.decode(match.group(1))[:1000]"
   ]
  },
  {
   "cell_type": "markdown",
   "metadata": {},
   "source": [
    "### 스크레이핑 - 정규표현식 / XML파서 이용\n",
    "- (궁금해서 찾아본) HTML과 XML 비교 [참고](https://www.crocus.co.kr/1493)\n",
    "    + 둘 다 마크업 언어(태그 등을 이용하여 문서나 데이터의 구조를 명기하는 언어)\n",
    "    + 목적이 다른데, \n",
    "        * XML은 데이터 저장과 전송을 목적으로,\n",
    "        * HTML은 데이터를 웹상에 표현하기 위한 목적.\n",
    "    + 태그 차이도 존재\n",
    "        * HTML은 태그가 정해져있으나 XML은 미리 정의된 태그가 없음.\n",
    "        * HTML은 태그 사양이 더 유연함. 생략을 한다던지. 웹 브라우저는 문법에 문제가 있는 HTML이라도 출력해줌.\n",
    "    + 추가적으로 \n",
    "        * HTML은 웹 환경에서 작동되는 언어, XML은 환경에 구애받지 않음.\n",
    "        * HTML은 데이터+표현 동시에, XML은 데이터만."
   ]
  },
  {
   "cell_type": "markdown",
   "metadata": {},
   "source": [
    "1. 정규표현식 [정규표현식 연습 사이트](https://pythex.org)\n",
    "    - HTML을 문자열으로 취급. \n",
    "    - 마크업되지 않은 웹 페이지도 스크레이핑 가능"
   ]
  },
  {
   "cell_type": "code",
   "execution_count": 12,
   "metadata": {},
   "outputs": [
    {
     "data": {
      "text/plain": [
       "<_sre.SRE_Match object; span=(0, 3), match='abc'>"
      ]
     },
     "execution_count": 12,
     "metadata": {},
     "output_type": "execute_result"
    }
   ],
   "source": [
    "# re모듈은 정규표현식 패턴의 \\ 처리를 도와줌.\n",
    "re.search(r'a.*c', 'abc123DEF')\n",
    "\n",
    "# 두번째 매개변수에 첫번째 정규표현식 부분을, Match객체로 반환. 안맞으면 None return."
   ]
  },
  {
   "cell_type": "code",
   "execution_count": 13,
   "metadata": {},
   "outputs": [
    {
     "data": {
      "text/plain": [
       "<_sre.SRE_Match object; span=(0, 7), match='abc123D'>"
      ]
     },
     "execution_count": 13,
     "metadata": {},
     "output_type": "execute_result"
    }
   ],
   "source": [
    "re.search(r'a.*d', 'abc123DEF', re.IGNORECASE)\n",
    "\n",
    "# re.IGNORECASE : 대소문자 구분 무시"
   ]
  },
  {
   "cell_type": "code",
   "execution_count": 14,
   "metadata": {},
   "outputs": [
    {
     "name": "stdout",
     "output_type": "stream",
     "text": [
      "abc\n",
      "b\n"
     ]
    }
   ],
   "source": [
    "m = re.search(r'a(.*)c', 'abc123DEF')\n",
    "print(m.group(0)) # 0이면 모든 값 반환.\n",
    "print(m.group(1)) # 1이면 ()안에 있는 값 반환."
   ]
  },
  {
   "cell_type": "code",
   "execution_count": 15,
   "metadata": {},
   "outputs": [
    {
     "data": {
      "text/plain": [
       "['This', 'is', 'pen']"
      ]
     },
     "execution_count": 15,
     "metadata": {},
     "output_type": "execute_result"
    }
   ],
   "source": [
    "re.findall(r'\\w{2,}', 'This is a pen') #2글자 이상의 단어 추출"
   ]
  },
  {
   "cell_type": "code",
   "execution_count": 16,
   "metadata": {},
   "outputs": [
    {
     "data": {
      "text/plain": [
       "'That That a That'"
      ]
     },
     "execution_count": 16,
     "metadata": {},
     "output_type": "execute_result"
    }
   ],
   "source": [
    "re.sub(r'\\w{2,}', 'That', 'This is a pen') # 대체"
   ]
  },
  {
   "cell_type": "code",
   "execution_count": 17,
   "metadata": {},
   "outputs": [
    {
     "name": "stdout",
     "output_type": "stream",
     "text": [
      "html : <td class=\"left\"><a href=\"/store/books/look.php?p_code=B6498472179\">죽음의 부정</a></td>\n",
      "url : http://www.hanbit.co.kr/store/books/look.php?p_code=B6498472179\n",
      "title : 죽음의 부정\n",
      "-----------\n",
      "html : <td class=\"left\"><a href=\"/store/books/look.php?p_code=B8548562053\">IT CookBook , MySQL로 배우는 데이터베이스 개론과 실습</a></td>\n",
      "url : http://www.hanbit.co.kr/store/books/look.php?p_code=B8548562053\n",
      "title : IT CookBook , MySQL로 배우는 데이터베이스 개론과 실습\n",
      "-----------\n",
      "html : <td class=\"left\"><a href=\"/store/books/look.php?p_code=B7446987985\">숨은 그림 찾기&#40;똑똑한 두뇌연습 만 4~6세&#41;</a></td>\n",
      "url : http://www.hanbit.co.kr/store/books/look.php?p_code=B7446987985\n",
      "title : 숨은 그림 찾기(똑똑한 두뇌연습 만 4~6세)\n",
      "-----------\n",
      "html : <td class=\"left\"><a href=\"/store/books/look.php?p_code=B5675781518\">리얼 홍콩 마카오 [2019~2020년 개정판]</a></td>\n",
      "url : http://www.hanbit.co.kr/store/books/look.php?p_code=B5675781518\n",
      "title : 리얼 홍콩 마카오 [2019~2020년 개정판]\n",
      "-----------\n",
      "html : <td class=\"left\"><a href=\"/store/books/look.php?p_code=B6797717479\">Head First Agile : 개념부터 시험 대비까지, 가장 애자일다운 안내서</a></td>\n",
      "url : http://www.hanbit.co.kr/store/books/look.php?p_code=B6797717479\n",
      "title : Head First Agile : 개념부터 시험 대비까지, 가장 애자일다운 안내서\n",
      "-----------\n",
      "html : <td class=\"left\"><a href=\"/store/books/look.php?p_code=B2935510029\">맛있는 디자인 라이트룸 CC</a></td>\n",
      "url : http://www.hanbit.co.kr/store/books/look.php?p_code=B2935510029\n",
      "title : 맛있는 디자인 라이트룸 CC\n",
      "-----------\n"
     ]
    }
   ],
   "source": [
    "f = urlopen(\"http://www.hanbit.co.kr/store/books/full_book_list.html\")\n",
    "html = f.read().decode('utf-8')\n",
    "\n",
    "for partial_html in re.findall(r'<td class=\"left\"><a.*?</td>', html, re.DOTALL)[:6] :\n",
    "    print('html :', partial_html)\n",
    "    \n",
    "    url = re.search(r'<a href=\"(.*?)\">', partial_html).group(1)\n",
    "    url = 'http://www.hanbit.co.kr' + url\n",
    "    print('url :',url)\n",
    "    \n",
    "    title = re.sub(r'<.*?>', '', partial_html)\n",
    "    title = re.sub(r'&#40;', '(', title)\n",
    "    title = re.sub(r'&#41;', ')', title)\n",
    "    print('title :',title)\n",
    "    print(\"-----------\")"
   ]
  },
  {
   "cell_type": "markdown",
   "metadata": {},
   "source": [
    "2. XML파서\n",
    "    - XML태그를 분석(파싱)하고 필요한 부분을 추출.\n",
    "    - 정규표현식보다 간단하게 추출 가능.\n",
    "    - HTML이 XML보다 유연하기 때문에 문제가 있는 HTML을 파싱하는데 어려움이 있을 수 있음.\n",
    "    - HTML 파서는 없나 생각했는데, python 표준 모듈 html.parser모듈이 있다고. 그러나 번거롭다고 한다."
   ]
  },
  {
   "cell_type": "markdown",
   "metadata": {},
   "source": [
    "- RSS란? 블로그나 뉴스 같은 웹사이트는 변경 정보등을 RSS라는 이름으로 제공. 이는 XML형식으로 제공됨.\n",
    "- 따라서, 스크레이핑하고 싶은 정보가 RSS로 제공되면 XML파서로 스크레이핑 가능."
   ]
  },
  {
   "cell_type": "code",
   "execution_count": 19,
   "metadata": {},
   "outputs": [
    {
     "data": {
      "text/plain": [
       "<xml.etree.ElementTree.ElementTree at 0x283d61ccb38>"
      ]
     },
     "execution_count": 19,
     "metadata": {},
     "output_type": "execute_result"
    }
   ],
   "source": [
    "from xml.etree import ElementTree\n",
    "\n",
    "# parse로 파일을 읽음\n",
    "tree = ElementTree.parse('rss.xml')\n",
    "tree"
   ]
  },
  {
   "cell_type": "code",
   "execution_count": 20,
   "metadata": {},
   "outputs": [
    {
     "data": {
      "text/plain": [
       "<Element 'rss' at 0x00000283D627ECC8>"
      ]
     },
     "execution_count": 20,
     "metadata": {},
     "output_type": "execute_result"
    }
   ],
   "source": [
    "# XML tree의 루트를 찾고\n",
    "root = tree.getroot()\n",
    "root"
   ]
  },
  {
   "cell_type": "code",
   "execution_count": 21,
   "metadata": {},
   "outputs": [
    {
     "name": "stdout",
     "output_type": "stream",
     "text": [
      "2019-08-21 00:00 24 30 구름많음\n",
      "2019-08-21 12:00 24 30 흐리고 비\n",
      "2019-08-22 00:00 23 30 구름많고 비\n",
      "2019-08-22 12:00 23 30 구름많음\n",
      "2019-08-23 00:00 22 30 구름많음\n",
      "2019-08-23 12:00 22 30 구름많음\n"
     ]
    }
   ],
   "source": [
    "# 주어진 파일에서 시간과 날씨를 찾기위해 root에서 해당 태그로 내려감\n",
    "# root > channel > item > description > body > location > data\n",
    "for item in root.findall('channel/item/description/body/location/data')[:6] : \n",
    "    tm_ef = item.find('tmEf').text # text로 텍스트 값 저장\n",
    "    tmn = item.find('tmn').text\n",
    "    tmx = item.find('tmx').text\n",
    "    wf = item.find('wf').text\n",
    "    print(tm_ef, tmn, tmx, wf)"
   ]
  }
 ],
 "metadata": {
  "kernelspec": {
   "display_name": "Python 3",
   "language": "python",
   "name": "python3"
  },
  "language_info": {
   "codemirror_mode": {
    "name": "ipython",
    "version": 3
   },
   "file_extension": ".py",
   "mimetype": "text/x-python",
   "name": "python",
   "nbconvert_exporter": "python",
   "pygments_lexer": "ipython3",
   "version": "3.5.6"
  }
 },
 "nbformat": 4,
 "nbformat_minor": 2
}
