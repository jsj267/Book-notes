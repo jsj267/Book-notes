{
 "cells": [
  {
   "cell_type": "markdown",
   "metadata": {},
   "source": [
    "### 21장 : 네트워크 분석"
   ]
  },
  {
   "cell_type": "code",
   "execution_count": 1,
   "metadata": {},
   "outputs": [
    {
     "data": {
      "text/plain": [
       "[{'id': 0, 'name': 'Hero'},\n",
       " {'id': 1, 'name': 'Dunn'},\n",
       " {'id': 2, 'name': 'Sue'},\n",
       " {'id': 3, 'name': 'Chi'},\n",
       " {'id': 4, 'name': 'Thor'},\n",
       " {'id': 5, 'name': 'Clive'},\n",
       " {'id': 6, 'name': 'Hicks'},\n",
       " {'id': 7, 'name': 'Devin'},\n",
       " {'id': 8, 'name': 'Kate'},\n",
       " {'id': 9, 'name': 'Klein'}]"
      ]
     },
     "execution_count": 1,
     "metadata": {},
     "output_type": "execute_result"
    }
   ],
   "source": [
    "users = [\n",
    "    {\"id\":0, \"name\":\"Hero\"},\n",
    "    {\"id\":1, \"name\":\"Dunn\"},\n",
    "    {\"id\":2, \"name\":\"Sue\"},\n",
    "    {\"id\":3, \"name\":\"Chi\"},\n",
    "    {\"id\":4, \"name\":\"Thor\"},\n",
    "    {\"id\":5, \"name\":\"Clive\"},\n",
    "    {\"id\":6, \"name\":\"Hicks\"},\n",
    "    {\"id\":7, \"name\":\"Devin\"},\n",
    "    {\"id\":8, \"name\":\"Kate\"},\n",
    "    {\"id\":9, \"name\":\"Klein\"}\n",
    "]\n",
    "friendships = [(0,1), (0,2), (1,2), (1,3), (2,3), (3,4), (4,5), (5,6), (5,7), (6,8), (7,8), (8,9)]\n",
    "users"
   ]
  },
  {
   "cell_type": "code",
   "execution_count": 2,
   "metadata": {},
   "outputs": [
    {
     "data": {
      "text/plain": [
       "[{'friends': [1, 2], 'id': 0, 'name': 'Hero'},\n",
       " {'friends': [0, 2, 3], 'id': 1, 'name': 'Dunn'},\n",
       " {'friends': [0, 1, 3], 'id': 2, 'name': 'Sue'},\n",
       " {'friends': [1, 2, 4], 'id': 3, 'name': 'Chi'},\n",
       " {'friends': [3, 5], 'id': 4, 'name': 'Thor'},\n",
       " {'friends': [4, 6, 7], 'id': 5, 'name': 'Clive'},\n",
       " {'friends': [5, 8], 'id': 6, 'name': 'Hicks'},\n",
       " {'friends': [5, 8], 'id': 7, 'name': 'Devin'},\n",
       " {'friends': [6, 7, 9], 'id': 8, 'name': 'Kate'},\n",
       " {'friends': [8], 'id': 9, 'name': 'Klein'}]"
      ]
     },
     "execution_count": 2,
     "metadata": {},
     "output_type": "execute_result"
    }
   ],
   "source": [
    "# 친구 입력하기\n",
    "for user in users:\n",
    "    user[\"friends\"] = []\n",
    "\n",
    "for i,j in friendships :\n",
    "    users[i][\"friends\"].append(users[j][\"id\"])\n",
    "    users[j][\"friends\"].append(users[i][\"id\"])\n",
    "    \n",
    "users"
   ]
  },
  {
   "cell_type": "code",
   "execution_count": 3,
   "metadata": {},
   "outputs": [
    {
     "data": {
      "text/plain": [
       "[(1, 'Dunn', 3),\n",
       " (2, 'Sue', 3),\n",
       " (3, 'Chi', 3),\n",
       " (5, 'Clive', 3),\n",
       " (8, 'Kate', 3),\n",
       " (0, 'Hero', 2),\n",
       " (4, 'Thor', 2),\n",
       " (6, 'Hicks', 2),\n",
       " (7, 'Devin', 2),\n",
       " (9, 'Klein', 1)]"
      ]
     },
     "execution_count": 3,
     "metadata": {},
     "output_type": "execute_result"
    }
   ],
   "source": [
    "# 친구가 가장 많은/적은 사람\n",
    "number_of_friends = [(user[\"id\"], user[\"name\"], len(user[\"friends\"])) for user in users]\n",
    "sorted_number_of_friends = sorted(number_of_friends, key=lambda user: user[2], reverse=True)\n",
    "sorted_number_of_friends"
   ]
  },
  {
   "cell_type": "markdown",
   "metadata": {},
   "source": [
    "- 많은 사람들과 연결되어있는 Dunn, Sue, Chi, Clive, Kate가 연결 중심성(degree centrality)가 높다. \n",
    "---\n",
    "- 그러나 연결되어있는 네트워크를 보면 연결 수는 2이지만 양쪽을 연결하는 Thor가 주요 연결고리로 생각될 수 있다.\n",
    "- ![21-1](https://github.com/jsj267/Data-Science-from-Scratch/blob/master/image/21_1.jpg?raw=true)\n",
    "- 그래서 대안으로 사용할 수 있는 지수 중 하나가 매개 중심성(betweenness centrality)\n",
    "- 매개 중심성이란 '임의의 두 사람 사이의 최단 경로상에서 얼마나 빈번하게 등장하는가'를 나타내는 지수.\n",
    "- 즉, 노드 i의 매개 중심성은 다른 모든 임의의 노드 j,k에 대하여, (i를 지나는 경로 수) / (j,k쌍의 최단 경로 수)"
   ]
  },
  {
   "cell_type": "markdown",
   "metadata": {},
   "source": [
    "- 매개 중심성을 계산하기 위해 BFS(breadth first search)를 사용하여 구하자\n",
    "    + 교재에서는 ```users[\"friends\"]```에 각 user를 통채로 넣어서 알고리즘을 구현했으나, 나는 ```users[\"friends\"]```에 friend의 id만 넣어서 알고리즘을 구현했다.\n",
    "        * 그 과정에서 각 user의 friend 데이터가 필요했는데, 각 user id로 friend의 id를 찾기 위한 ```friends_dict``` dictionary를 만들어서 사용했다. "
   ]
  },
  {
   "cell_type": "code",
   "execution_count": 23,
   "metadata": {},
   "outputs": [
    {
     "data": {
      "text/plain": [
       "{0: [1, 2],\n",
       " 1: [0, 2, 3],\n",
       " 2: [0, 1, 3],\n",
       " 3: [1, 2, 4],\n",
       " 4: [3, 5],\n",
       " 5: [4, 6, 7],\n",
       " 6: [5, 8],\n",
       " 7: [5, 8],\n",
       " 8: [6, 7, 9],\n",
       " 9: [8]}"
      ]
     },
     "execution_count": 23,
     "metadata": {},
     "output_type": "execute_result"
    }
   ],
   "source": [
    "friends_dict = {}\n",
    "for user in users:\n",
    "    friends_dict.update({ user[\"id\"] : user[\"friends\"]})\n",
    "friends_dict"
   ]
  },
  {
   "cell_type": "code",
   "execution_count": 40,
   "metadata": {},
   "outputs": [],
   "source": [
    "# 매개 중심성 계산하기 - 1) 최단경로 구하기 \n",
    "from collections import deque\n",
    "\n",
    "# 최단 경로를 값으로 가지고 있는 dict, shortest_paths_from 함수\n",
    "def shortest_paths_from(from_user, friends_dict):\n",
    "    # 초기화\n",
    "    shortest_paths_to = { from_user[\"id\"] : [[]] }\n",
    "    # bfs를 위한 queue (이전 노드까지의 최단 경로를 이용하기 때문에 큐에 (이전노드, 현노드) 형태로 저장함)\n",
    "    frontier = deque((from_user[\"id\"], friend) for friend in from_user[\"friends\"])\n",
    "\n",
    "    # 경로를 다 탐색할 때까지\n",
    "    while frontier:\n",
    "        prev_user, user = frontier.popleft()\n",
    "        user_id = user\n",
    "\n",
    "        #재귀를 이용해서 이전 노드까지의 최단경로에 현 노드를 이어 경로 만들기\n",
    "        paths_to_prev_user = shortest_paths_to[prev_user]\n",
    "        new_paths_to_user = [path+[user_id] for path in paths_to_prev_user]\n",
    "\n",
    "        #이미 최단경로 shortest_paths_to에 저장되어있는지 확인\n",
    "        old_paths_to_user = shortest_paths_to.get(user_id, [])\n",
    "            ##dict.get(key, default값) : dictionary에 key값이 있으면 그 값을 반환하고, 없으면 default값을 반환한다. default값을 적지 않으면 None 반환\n",
    "        \n",
    "        #이미 최단 경로가 있으면 그걸 일단 min_path로 쓰자.\n",
    "        if old_paths_to_user:\n",
    "            min_path_length = len(old_paths_to_user[0])\n",
    "        else:\n",
    "            min_path_length = float('inf')\n",
    "\n",
    "        # '이전 노드까지의 최단경로 + 현 노드' 와 '이전에 구해놓은 최단경로' 를 비교해서 최종 최단 경로를 구한다.\n",
    "        new_paths_to_user = [path \n",
    "                             for path in new_paths_to_user\n",
    "                             if len(path) <= min_path_length\n",
    "                             and path not in old_paths_to_user]\n",
    "\n",
    "        shortest_paths_to[user_id] = old_paths_to_user + new_paths_to_user\n",
    "\n",
    "        # 남은 이웃 노드를 queue에 추가. \n",
    "        frontier.extend((user, friend)\n",
    "                       for friend in friends_dict[user]\n",
    "                       if friend not in shortest_paths_to)\n",
    "        \n",
    "    return shortest_paths_to"
   ]
  },
  {
   "cell_type": "code",
   "execution_count": 41,
   "metadata": {},
   "outputs": [
    {
     "data": {
      "text/plain": [
       "{0: [[]],\n",
       " 1: [[1]],\n",
       " 2: [[2]],\n",
       " 3: [[1, 3], [2, 3]],\n",
       " 4: [[1, 3, 4], [2, 3, 4]],\n",
       " 5: [[1, 3, 4, 5], [2, 3, 4, 5]],\n",
       " 6: [[1, 3, 4, 5, 6], [2, 3, 4, 5, 6]],\n",
       " 7: [[1, 3, 4, 5, 7], [2, 3, 4, 5, 7]],\n",
       " 8: [[1, 3, 4, 5, 6, 8],\n",
       "  [2, 3, 4, 5, 6, 8],\n",
       "  [1, 3, 4, 5, 7, 8],\n",
       "  [2, 3, 4, 5, 7, 8]],\n",
       " 9: [[1, 3, 4, 5, 6, 8, 9],\n",
       "  [2, 3, 4, 5, 6, 8, 9],\n",
       "  [1, 3, 4, 5, 7, 8, 9],\n",
       "  [2, 3, 4, 5, 7, 8, 9]]}"
      ]
     },
     "execution_count": 41,
     "metadata": {},
     "output_type": "execute_result"
    }
   ],
   "source": [
    "# from_user = 0, 즉, id=0인 노드부터 최단거리 경로\n",
    "shortest_paths_from(users[0], friends_dict)"
   ]
  },
  {
   "cell_type": "code",
   "execution_count": 42,
   "metadata": {},
   "outputs": [],
   "source": [
    "# 각 노드에 최단 거리를 저장, 매개 중심성 초기화\n",
    "for user in users:\n",
    "    user[\"shortest_paths\"] = shortest_paths_from(user, friends_dict)\n",
    "    user[\"betweenness_centrality\"] = 0.0"
   ]
  },
  {
   "cell_type": "code",
   "execution_count": 43,
   "metadata": {},
   "outputs": [],
   "source": [
    "# 매개중심성 계산(source가 시작점, target이 끝점)\n",
    "for source in users:\n",
    "    source_id = source[\"id\"]\n",
    "    for target_id, paths in source[\"shortest_paths\"].items() : # dict.items() : key와 value를 묶어서 쌍으로 return해주는 함수\n",
    "        if source_id < target_id : # 경로 한번만 세도록\n",
    "            num_paths = len(paths)\n",
    "            contrib = 1/num_paths\n",
    "            for path in paths:\n",
    "                for id in path:\n",
    "                    if id not in [source_id, target_id]:\n",
    "                        users[id][\"betweenness_centrality\"] += contrib"
   ]
  },
  {
   "cell_type": "code",
   "execution_count": 44,
   "metadata": {},
   "outputs": [
    {
     "data": {
      "text/plain": [
       "[{'betweenness_centrality': 0.0,\n",
       "  'friends': [1, 2],\n",
       "  'id': 0,\n",
       "  'name': 'Hero',\n",
       "  'shortest_paths': {0: [[]],\n",
       "   1: [[1]],\n",
       "   2: [[2]],\n",
       "   3: [[1, 3], [2, 3]],\n",
       "   4: [[1, 3, 4], [2, 3, 4]],\n",
       "   5: [[1, 3, 4, 5], [2, 3, 4, 5]],\n",
       "   6: [[1, 3, 4, 5, 6], [2, 3, 4, 5, 6]],\n",
       "   7: [[1, 3, 4, 5, 7], [2, 3, 4, 5, 7]],\n",
       "   8: [[1, 3, 4, 5, 6, 8],\n",
       "    [2, 3, 4, 5, 6, 8],\n",
       "    [1, 3, 4, 5, 7, 8],\n",
       "    [2, 3, 4, 5, 7, 8]],\n",
       "   9: [[1, 3, 4, 5, 6, 8, 9],\n",
       "    [2, 3, 4, 5, 6, 8, 9],\n",
       "    [1, 3, 4, 5, 7, 8, 9],\n",
       "    [2, 3, 4, 5, 7, 8, 9]]}},\n",
       " {'betweenness_centrality': 3.5,\n",
       "  'friends': [0, 2, 3],\n",
       "  'id': 1,\n",
       "  'name': 'Dunn',\n",
       "  'shortest_paths': {0: [[0]],\n",
       "   1: [[]],\n",
       "   2: [[2]],\n",
       "   3: [[3]],\n",
       "   4: [[3, 4]],\n",
       "   5: [[3, 4, 5]],\n",
       "   6: [[3, 4, 5, 6]],\n",
       "   7: [[3, 4, 5, 7]],\n",
       "   8: [[3, 4, 5, 6, 8], [3, 4, 5, 7, 8]],\n",
       "   9: [[3, 4, 5, 6, 8, 9], [3, 4, 5, 7, 8, 9]]}},\n",
       " {'betweenness_centrality': 3.5,\n",
       "  'friends': [0, 1, 3],\n",
       "  'id': 2,\n",
       "  'name': 'Sue',\n",
       "  'shortest_paths': {0: [[0]],\n",
       "   1: [[1]],\n",
       "   2: [[]],\n",
       "   3: [[3]],\n",
       "   4: [[3, 4]],\n",
       "   5: [[3, 4, 5]],\n",
       "   6: [[3, 4, 5, 6]],\n",
       "   7: [[3, 4, 5, 7]],\n",
       "   8: [[3, 4, 5, 6, 8], [3, 4, 5, 7, 8]],\n",
       "   9: [[3, 4, 5, 6, 8, 9], [3, 4, 5, 7, 8, 9]]}},\n",
       " {'betweenness_centrality': 18.0,\n",
       "  'friends': [1, 2, 4],\n",
       "  'id': 3,\n",
       "  'name': 'Chi',\n",
       "  'shortest_paths': {0: [[1, 0], [2, 0]],\n",
       "   1: [[1]],\n",
       "   2: [[2]],\n",
       "   3: [[]],\n",
       "   4: [[4]],\n",
       "   5: [[4, 5]],\n",
       "   6: [[4, 5, 6]],\n",
       "   7: [[4, 5, 7]],\n",
       "   8: [[4, 5, 6, 8], [4, 5, 7, 8]],\n",
       "   9: [[4, 5, 6, 8, 9], [4, 5, 7, 8, 9]]}},\n",
       " {'betweenness_centrality': 20.0,\n",
       "  'friends': [3, 5],\n",
       "  'id': 4,\n",
       "  'name': 'Thor',\n",
       "  'shortest_paths': {0: [[3, 1, 0], [3, 2, 0]],\n",
       "   1: [[3, 1]],\n",
       "   2: [[3, 2]],\n",
       "   3: [[3]],\n",
       "   4: [[]],\n",
       "   5: [[5]],\n",
       "   6: [[5, 6]],\n",
       "   7: [[5, 7]],\n",
       "   8: [[5, 6, 8], [5, 7, 8]],\n",
       "   9: [[5, 6, 8, 9], [5, 7, 8, 9]]}},\n",
       " {'betweenness_centrality': 20.5,\n",
       "  'friends': [4, 6, 7],\n",
       "  'id': 5,\n",
       "  'name': 'Clive',\n",
       "  'shortest_paths': {0: [[4, 3, 1, 0], [4, 3, 2, 0]],\n",
       "   1: [[4, 3, 1]],\n",
       "   2: [[4, 3, 2]],\n",
       "   3: [[4, 3]],\n",
       "   4: [[4]],\n",
       "   5: [[]],\n",
       "   6: [[6]],\n",
       "   7: [[7]],\n",
       "   8: [[6, 8], [7, 8]],\n",
       "   9: [[6, 8, 9], [7, 8, 9]]}},\n",
       " {'betweenness_centrality': 6.0,\n",
       "  'friends': [5, 8],\n",
       "  'id': 6,\n",
       "  'name': 'Hicks',\n",
       "  'shortest_paths': {0: [[5, 4, 3, 1, 0], [5, 4, 3, 2, 0]],\n",
       "   1: [[5, 4, 3, 1]],\n",
       "   2: [[5, 4, 3, 2]],\n",
       "   3: [[5, 4, 3]],\n",
       "   4: [[5, 4]],\n",
       "   5: [[5]],\n",
       "   6: [[]],\n",
       "   7: [[5, 7], [8, 7]],\n",
       "   8: [[8]],\n",
       "   9: [[8, 9]]}},\n",
       " {'betweenness_centrality': 6.0,\n",
       "  'friends': [5, 8],\n",
       "  'id': 7,\n",
       "  'name': 'Devin',\n",
       "  'shortest_paths': {0: [[5, 4, 3, 1, 0], [5, 4, 3, 2, 0]],\n",
       "   1: [[5, 4, 3, 1]],\n",
       "   2: [[5, 4, 3, 2]],\n",
       "   3: [[5, 4, 3]],\n",
       "   4: [[5, 4]],\n",
       "   5: [[5]],\n",
       "   6: [[5, 6], [8, 6]],\n",
       "   7: [[]],\n",
       "   8: [[8]],\n",
       "   9: [[8, 9]]}},\n",
       " {'betweenness_centrality': 8.5,\n",
       "  'friends': [6, 7, 9],\n",
       "  'id': 8,\n",
       "  'name': 'Kate',\n",
       "  'shortest_paths': {0: [[6, 5, 4, 3, 1, 0],\n",
       "    [7, 5, 4, 3, 1, 0],\n",
       "    [6, 5, 4, 3, 2, 0],\n",
       "    [7, 5, 4, 3, 2, 0]],\n",
       "   1: [[6, 5, 4, 3, 1], [7, 5, 4, 3, 1]],\n",
       "   2: [[6, 5, 4, 3, 2], [7, 5, 4, 3, 2]],\n",
       "   3: [[6, 5, 4, 3], [7, 5, 4, 3]],\n",
       "   4: [[6, 5, 4], [7, 5, 4]],\n",
       "   5: [[6, 5], [7, 5]],\n",
       "   6: [[6]],\n",
       "   7: [[7]],\n",
       "   8: [[]],\n",
       "   9: [[9]]}},\n",
       " {'betweenness_centrality': 0.0,\n",
       "  'friends': [8],\n",
       "  'id': 9,\n",
       "  'name': 'Klein',\n",
       "  'shortest_paths': {0: [[8, 6, 5, 4, 3, 1, 0],\n",
       "    [8, 7, 5, 4, 3, 1, 0],\n",
       "    [8, 6, 5, 4, 3, 2, 0],\n",
       "    [8, 7, 5, 4, 3, 2, 0]],\n",
       "   1: [[8, 6, 5, 4, 3, 1], [8, 7, 5, 4, 3, 1]],\n",
       "   2: [[8, 6, 5, 4, 3, 2], [8, 7, 5, 4, 3, 2]],\n",
       "   3: [[8, 6, 5, 4, 3], [8, 7, 5, 4, 3]],\n",
       "   4: [[8, 6, 5, 4], [8, 7, 5, 4]],\n",
       "   5: [[8, 6, 5], [8, 7, 5]],\n",
       "   6: [[8, 6]],\n",
       "   7: [[8, 7]],\n",
       "   8: [[8]],\n",
       "   9: [[]]}}]"
      ]
     },
     "execution_count": 44,
     "metadata": {},
     "output_type": "execute_result"
    }
   ],
   "source": [
    "users"
   ]
  },
  {
   "cell_type": "code",
   "execution_count": 47,
   "metadata": {},
   "outputs": [
    {
     "name": "stdout",
     "output_type": "stream",
     "text": [
      "id : 0       betweenness_centrality : 0.0\n",
      "id : 1       betweenness_centrality : 3.5\n",
      "id : 2       betweenness_centrality : 3.5\n",
      "id : 3       betweenness_centrality : 18.0\n",
      "id : 4       betweenness_centrality : 20.0\n",
      "id : 5       betweenness_centrality : 20.5\n",
      "id : 6       betweenness_centrality : 6.0\n",
      "id : 7       betweenness_centrality : 6.0\n",
      "id : 8       betweenness_centrality : 8.5\n",
      "id : 9       betweenness_centrality : 0.0\n"
     ]
    }
   ],
   "source": [
    "for user in users:\n",
    "    print(\"id :\", user[\"id\"], \"      betweenness_centrality :\", user[\"betweenness_centrality\"])"
   ]
  },
  {
   "cell_type": "markdown",
   "metadata": {},
   "source": [
    "- ![21_2](https://github.com/jsj267/Data-Science-from-Scratch/blob/master/image/21_2.jpg?raw=true)\n",
    "- 빈도가 높은 id=3,4,5 노드가 매개중심성이 높은 것을 볼 수 있다.\n",
    "---"
   ]
  },
  {
   "cell_type": "markdown",
   "metadata": {},
   "source": [
    "- 근접중심성(closeness centrality) : 1/(원접성farness)\n",
    "- 원접성farness = 다른 모든 사용자의 최단 경로를 합한 값"
   ]
  },
  {
   "cell_type": "code",
   "execution_count": 48,
   "metadata": {},
   "outputs": [
    {
     "name": "stdout",
     "output_type": "stream",
     "text": [
      "id : 0       closeness_centrality : 0.029411764705882353\n",
      "id : 1       closeness_centrality : 0.037037037037037035\n",
      "id : 2       closeness_centrality : 0.037037037037037035\n",
      "id : 3       closeness_centrality : 0.045454545454545456\n",
      "id : 4       closeness_centrality : 0.05\n",
      "id : 5       closeness_centrality : 0.05\n",
      "id : 6       closeness_centrality : 0.041666666666666664\n",
      "id : 7       closeness_centrality : 0.041666666666666664\n",
      "id : 8       closeness_centrality : 0.03571428571428571\n",
      "id : 9       closeness_centrality : 0.027777777777777776\n"
     ]
    }
   ],
   "source": [
    "def farness(user):\n",
    "    return sum(len(paths[0]) for paths in user[\"shortest_paths\"].values())\n",
    "\n",
    "for user in users:\n",
    "    user[\"closeness_centrality\"] = 1/farness(user)\n",
    "    print(\"id :\", user[\"id\"], \"      closeness_centrality :\", user[\"closeness_centrality\"])"
   ]
  },
  {
   "cell_type": "markdown",
   "metadata": {},
   "source": [
    "- ![21_3](https://github.com/jsj267/Data-Science-from-Scratch/blob/master/image/21_3.jpg?raw=true)\n",
    "- 근접 중심성을 자주 사용하진 않고, 대신 더 쉽게 계산할 수 있는 고유벡터 중심성(eigenvector centrality)를 더 자주 사용한다고."
   ]
  },
  {
   "cell_type": "code",
   "execution_count": 49,
   "metadata": {},
   "outputs": [],
   "source": [
    "# 고유벡터 계산을 위한 행렬곱을 정의. \n",
    "## 행렬A의 i행, 행렬B의 j열\n",
    "def matrix_product_entry(A, B, i, j) :\n",
    "    return dot(get_row(A,i), get_column(B,j))\n",
    "\n",
    "## 행렬 AB\n",
    "def matrix_multiply(A, B):\n",
    "    r1, c1 = shape(A)\n",
    "    r2, c2 = shape(B)\n",
    "    if c1!=r2 :\n",
    "        raise ArithmetircError(\"incompatible shapes!\")\n",
    "    \n",
    "    return make_matrix(r1, c2, partial(matrix_produc,t_entry, A, B))\n",
    "    ##make_matrix function?"
   ]
  }
 ],
 "metadata": {
  "kernelspec": {
   "display_name": "Python 3",
   "language": "python",
   "name": "python3"
  },
  "language_info": {
   "codemirror_mode": {
    "name": "ipython",
    "version": 3
   },
   "file_extension": ".py",
   "mimetype": "text/x-python",
   "name": "python",
   "nbconvert_exporter": "python",
   "pygments_lexer": "ipython3",
   "version": "3.5.6"
  }
 },
 "nbformat": 4,
 "nbformat_minor": 2
}
