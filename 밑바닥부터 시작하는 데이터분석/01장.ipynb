{
 "cells": [
  {
   "cell_type": "markdown",
   "metadata": {},
   "source": [
    "### 1장 : 들어가기\n",
    "\n",
    "- [페이스북의 국제 이주 패턴 찾기](https://www.facebook.com/notes/facebook-data-science/coordinated-migration/10151930946453859)\n",
    "- [페이스북의 미식 축구팀 팬들의 주요 거주 지역](http://on.fb.me/1EQTvnO)\n",
    "- 미국의 슈퍼마켓 체인점 Target은 구매 내역 데이터로 어떤 고객이 임신했는지 예측하여 아기 용품을 광고.\n",
    "- 오바마 대선 캠프는 관심을 요하는 유권자들을 걸러 최적의 선거 모금 프로그램과 분위기를 선택 + 선거 참여율이 높아질 경우 당선에 도움이 되는 지역 찾음."
   ]
  },
  {
   "cell_type": "code",
   "execution_count": 2,
   "metadata": {},
   "outputs": [],
   "source": [
    "users = [\n",
    "    {\"id\":0, \"name\":\"Hero\"},\n",
    "    {\"id\":1, \"name\":\"Dunn\"},\n",
    "    {\"id\":2, \"name\":\"Sue\"},\n",
    "    {\"id\":3, \"name\":\"Chi\"},\n",
    "    {\"id\":4, \"name\":\"Thor\"},\n",
    "    {\"id\":5, \"name\":\"Clive\"},\n",
    "    {\"id\":6, \"name\":\"Hicks\"},\n",
    "    {\"id\":7, \"name\":\"Devin\"},\n",
    "    {\"id\":8, \"name\":\"Kate\"},\n",
    "    {\"id\":9, \"name\":\"Klein\"}\n",
    "]\n",
    "friendships = [(0,1), (0,2), (1,2), (1,3), (2,3), (3,4), (4,5), (5,6), (5,7), (6,8), (7,8), (8,9)]"
   ]
  },
  {
   "cell_type": "code",
   "execution_count": 10,
   "metadata": {},
   "outputs": [],
   "source": [
    "# 친구 입력하기\n",
    "for user in users:\n",
    "    user[\"friends\"] = []\n",
    "\n",
    "for i,j in friendships :\n",
    "    users[i][\"friends\"].append(users[j][\"id\"])\n",
    "    users[j][\"friends\"].append(users[i][\"id\"])"
   ]
  },
  {
   "cell_type": "code",
   "execution_count": 11,
   "metadata": {},
   "outputs": [
    {
     "data": {
      "text/plain": [
       "[{'friends': [1, 2], 'id': 0, 'name': 'Hero'},\n",
       " {'friends': [0, 2, 3], 'id': 1, 'name': 'Dunn'},\n",
       " {'friends': [0, 1, 3], 'id': 2, 'name': 'Sue'},\n",
       " {'friends': [1, 2, 4], 'id': 3, 'name': 'Chi'},\n",
       " {'friends': [3, 5], 'id': 4, 'name': 'Thor'},\n",
       " {'friends': [4, 6, 7], 'id': 5, 'name': 'Clive'},\n",
       " {'friends': [5, 8], 'id': 6, 'name': 'Hicks'},\n",
       " {'friends': [5, 8], 'id': 7, 'name': 'Devin'},\n",
       " {'friends': [6, 7, 9], 'id': 8, 'name': 'Kate'},\n",
       " {'friends': [8], 'id': 9, 'name': 'Klein'}]"
      ]
     },
     "execution_count": 11,
     "metadata": {},
     "output_type": "execute_result"
    }
   ],
   "source": [
    "users"
   ]
  },
  {
   "cell_type": "code",
   "execution_count": 12,
   "metadata": {},
   "outputs": [],
   "source": [
    "# 평균 친구 수 구하기\n",
    "def mean_of_friends(users) :\n",
    "    m = sum(len(user[\"friends\"]) for user in users)/len(users)\n",
    "    return m"
   ]
  },
  {
   "cell_type": "code",
   "execution_count": 13,
   "metadata": {},
   "outputs": [
    {
     "data": {
      "text/plain": [
       "2.4"
      ]
     },
     "execution_count": 13,
     "metadata": {},
     "output_type": "execute_result"
    }
   ],
   "source": [
    "mean_of_friends(users)"
   ]
  },
  {
   "cell_type": "code",
   "execution_count": 14,
   "metadata": {},
   "outputs": [
    {
     "data": {
      "text/plain": [
       "[('Hero', 2),\n",
       " ('Dunn', 3),\n",
       " ('Sue', 3),\n",
       " ('Chi', 3),\n",
       " ('Thor', 2),\n",
       " ('Clive', 3),\n",
       " ('Hicks', 2),\n",
       " ('Devin', 2),\n",
       " ('Kate', 3),\n",
       " ('Klein', 1)]"
      ]
     },
     "execution_count": 14,
     "metadata": {},
     "output_type": "execute_result"
    }
   ],
   "source": [
    "# 친구가 가장 많은/적은 사람\n",
    "number_of_friends = [(user[\"name\"], len(user[\"friends\"])) for user in users]\n",
    "number_of_friends"
   ]
  },
  {
   "cell_type": "code",
   "execution_count": 15,
   "metadata": {},
   "outputs": [
    {
     "data": {
      "text/plain": [
       "[('Dunn', 3),\n",
       " ('Sue', 3),\n",
       " ('Chi', 3),\n",
       " ('Clive', 3),\n",
       " ('Kate', 3),\n",
       " ('Hero', 2),\n",
       " ('Thor', 2),\n",
       " ('Hicks', 2),\n",
       " ('Devin', 2),\n",
       " ('Klein', 1)]"
      ]
     },
     "execution_count": 15,
     "metadata": {},
     "output_type": "execute_result"
    }
   ],
   "source": [
    "sorted_number_of_friends = sorted(number_of_friends, key=lambda user: user[1], reverse=True)\n",
    "sorted_number_of_friends"
   ]
  },
  {
   "cell_type": "markdown",
   "metadata": {},
   "source": [
    "- 친구 수가 3인 친구들이 네트워크에서 연결 중심성이 높은 것처럼 보이지만 네트워크를 그려보면 id=4인 Thor가 가운데에 위치하여 더 중심적인 역할을 하는 것처럼 보인다.\n",
    "- 네트워크 중심성을 파악하면 페이스북같은 플랫폼에서 유용하게 사용될 듯.\n",
    "- 네트워크 분석은 [21장](https://github.com/jsj267/Data-Science-from-Scratch/blob/master/21%EC%9E%A5.ipynb)참고"
   ]
  },
  {
   "cell_type": "code",
   "execution_count": 16,
   "metadata": {},
   "outputs": [
    {
     "data": {
      "text/plain": [
       "{0: [1, 2],\n",
       " 1: [0, 2, 3],\n",
       " 2: [0, 1, 3],\n",
       " 3: [1, 2, 4],\n",
       " 4: [3, 5],\n",
       " 5: [4, 6, 7],\n",
       " 6: [5, 8],\n",
       " 7: [5, 8],\n",
       " 8: [6, 7, 9],\n",
       " 9: [8]}"
      ]
     },
     "execution_count": 16,
     "metadata": {},
     "output_type": "execute_result"
    }
   ],
   "source": [
    "friends_dict = {}\n",
    "for user in users:\n",
    "    friends_dict.update({ user[\"id\"] : user[\"friends\"]})\n",
    "friends_dict"
   ]
  },
  {
   "cell_type": "code",
   "execution_count": 48,
   "metadata": {},
   "outputs": [],
   "source": [
    "# 친구의 친구 찾기\n",
    "def friends_of_friend_ids_bad(user, friends_dict):\n",
    "    foaf_list = [foaf\n",
    "                        for friend in user[\"friends\"]\n",
    "                        for foaf in friends_dict[friend]\n",
    "                        if foaf != user[\"id\"] and foaf not in user[\"friends\"]]\n",
    "    return list(set(foaf_list))"
   ]
  },
  {
   "cell_type": "code",
   "execution_count": 49,
   "metadata": {
    "scrolled": true
   },
   "outputs": [
    {
     "name": "stdout",
     "output_type": "stream",
     "text": [
      "user : 0             foaf : [3]\n",
      "user : 1             foaf : [4]\n",
      "user : 2             foaf : [4]\n",
      "user : 3             foaf : [0, 5]\n",
      "user : 4             foaf : [1, 2, 6, 7]\n",
      "user : 5             foaf : [8, 3]\n",
      "user : 6             foaf : [9, 4, 7]\n",
      "user : 7             foaf : [9, 4, 6]\n",
      "user : 8             foaf : [5]\n",
      "user : 9             foaf : [6, 7]\n"
     ]
    }
   ],
   "source": [
    "for user in users:\n",
    "    print(\"user :\", user[\"id\"], \"            foaf :\", friends_of_friend_ids_bad(user, friends_dict))"
   ]
  },
  {
   "cell_type": "code",
   "execution_count": 59,
   "metadata": {},
   "outputs": [],
   "source": [
    "# 서로가 함께 아는 친구(단, 사용자가 이미 아는 친구는 제외)\n",
    "from collections import Counter\n",
    "\n",
    "def friends_of_friend_ids(user, friends_dict):\n",
    "    return Counter(foaf\n",
    "                                for friend in user[\"friends\"]\n",
    "                                for foaf in friends_dict[friend]\n",
    "                                if user[\"id\"] != foaf and foaf in friends_dict[friend] and foaf not in user[\"friends\"])\n",
    "## collections.Counter() : 각 요소의 개수를 dict형태로 return(히스토그램이나 특정 문서에서 단어의 개수를 셀 때 유용.)"
   ]
  },
  {
   "cell_type": "code",
   "execution_count": 60,
   "metadata": {},
   "outputs": [
    {
     "data": {
      "text/plain": [
       "Counter({0: 2, 5: 1})"
      ]
     },
     "execution_count": 60,
     "metadata": {},
     "output_type": "execute_result"
    }
   ],
   "source": [
    "friends_of_friend_ids(users[3], friends_dict)"
   ]
  },
  {
   "cell_type": "code",
   "execution_count": 61,
   "metadata": {},
   "outputs": [],
   "source": [
    "# 사용자의 (id, interest)\n",
    "interests = [\n",
    "    (0, \"Hadoop\"), (0, \"Big Data\"), (0, \"HBase\"), (0, \"Java\"),\n",
    "    (0, \"Spark\"), (0, \"Storm\"), (0, \"Cassandra\"),\n",
    "    (1, \"NoSQL\"), (1, \"MongoDB\"), (1, \"Cassandra\"), (1, \"HBase\"),\n",
    "    (1, \"Postgres\"), (2, \"Python\"), (2, \"scikit-learn\"), (2, \"scipy\"),\n",
    "    (2, \"numpy\"), (2, \"statsmodels\"), (2, \"pandas\"), (3, \"R\"), (3, \"Python\"),\n",
    "    (3, \"statistics\"), (3, \"regression\"), (3, \"probability\"),\n",
    "    (4, \"machine learning\"), (4, \"regression\"), (4, \"decision trees\"),\n",
    "    (4, \"libsvm\"), (5, \"Python\"), (5, \"R\"), (5, \"Java\"), (5, \"C++\"),\n",
    "    (5, \"Haskell\"), (5, \"programming languages\"), (6, \"statistics\"),\n",
    "    (6, \"probability\"), (6, \"mathematics\"), (6, \"theory\"),\n",
    "    (7, \"machine learning\"), (7, \"scikit-learn\"), (7, \"Mahout\"),\n",
    "    (7, \"neural networks\"), (8, \"neural networks\"), (8, \"deep learning\"),\n",
    "    (8, \"Big Data\"), (8, \"artificial intelligence\"), (9, \"Hadoop\"),\n",
    "    (9, \"Java\"), (9, \"MapReduce\"), (9, \"Big Data\")\n",
    "]"
   ]
  },
  {
   "cell_type": "code",
   "execution_count": 62,
   "metadata": {},
   "outputs": [],
   "source": [
    "# 특정 관심사를 공유하는 사용자\n",
    "def data_scientists_who_like(target_interest):\n",
    "    return [user_id for user_id, interest in interests if interest == target_interest]"
   ]
  },
  {
   "cell_type": "code",
   "execution_count": 73,
   "metadata": {},
   "outputs": [
    {
     "data": {
      "text/plain": [
       "{'Big Data': [0, 8, 9],\n",
       " 'C++': [5],\n",
       " 'Cassandra': [0, 1],\n",
       " 'HBase': [0, 1],\n",
       " 'Hadoop': [0, 9],\n",
       " 'Haskell': [5],\n",
       " 'Java': [0, 5, 9],\n",
       " 'Mahout': [7],\n",
       " 'MapReduce': [9],\n",
       " 'MongoDB': [1],\n",
       " 'NoSQL': [1],\n",
       " 'Postgres': [1],\n",
       " 'Python': [2, 3, 5],\n",
       " 'R': [3, 5],\n",
       " 'Spark': [0],\n",
       " 'Storm': [0],\n",
       " 'artificial intelligence': [8],\n",
       " 'decision trees': [4],\n",
       " 'deep learning': [8],\n",
       " 'libsvm': [4],\n",
       " 'machine learning': [4, 7],\n",
       " 'mathematics': [6],\n",
       " 'neural networks': [7, 8],\n",
       " 'numpy': [2],\n",
       " 'pandas': [2],\n",
       " 'probability': [3, 6],\n",
       " 'programming languages': [5],\n",
       " 'regression': [3, 4],\n",
       " 'scikit-learn': [2, 7],\n",
       " 'scipy': [2],\n",
       " 'statistics': [3, 6],\n",
       " 'statsmodels': [2],\n",
       " 'theory': [6]}"
      ]
     },
     "execution_count": 73,
     "metadata": {},
     "output_type": "execute_result"
    }
   ],
   "source": [
    "# 관심사를 key, 사용자를 value로 dict를 만들면\n",
    "interest_list = [interest for user, interest in interests]\n",
    "interest_set = set(interest_list)\n",
    "\n",
    "user_ids_by_interest = {}\n",
    "for interest in interest_set :\n",
    "    user_ids_by_interest[interest] = data_scientists_who_like(interest)\n",
    "    \n",
    "user_ids_by_interest"
   ]
  },
  {
   "cell_type": "code",
   "execution_count": 78,
   "metadata": {},
   "outputs": [
    {
     "data": {
      "text/plain": [
       "defaultdict(list,\n",
       "            {'Big Data': [0, 8, 9],\n",
       "             'C++': [5],\n",
       "             'Cassandra': [0, 1],\n",
       "             'HBase': [0, 1],\n",
       "             'Hadoop': [0, 9],\n",
       "             'Haskell': [5],\n",
       "             'Java': [0, 5, 9],\n",
       "             'Mahout': [7],\n",
       "             'MapReduce': [9],\n",
       "             'MongoDB': [1],\n",
       "             'NoSQL': [1],\n",
       "             'Postgres': [1],\n",
       "             'Python': [2, 3, 5],\n",
       "             'R': [3, 5],\n",
       "             'Spark': [0],\n",
       "             'Storm': [0],\n",
       "             'artificial intelligence': [8],\n",
       "             'decision trees': [4],\n",
       "             'deep learning': [8],\n",
       "             'libsvm': [4],\n",
       "             'machine learning': [4, 7],\n",
       "             'mathematics': [6],\n",
       "             'neural networks': [7, 8],\n",
       "             'numpy': [2],\n",
       "             'pandas': [2],\n",
       "             'probability': [3, 6],\n",
       "             'programming languages': [5],\n",
       "             'regression': [3, 4],\n",
       "             'scikit-learn': [2, 7],\n",
       "             'scipy': [2],\n",
       "             'statistics': [3, 6],\n",
       "             'statsmodels': [2],\n",
       "             'theory': [6]})"
      ]
     },
     "execution_count": 78,
     "metadata": {},
     "output_type": "execute_result"
    }
   ],
   "source": [
    "# 교재에서는 이렇게\n",
    "from collections import defaultdict\n",
    "## defaultdict(list/int/set) : value를 각 자료형을 초기화해줌. int의 경우에는 default=0\n",
    "\n",
    "user_ids_by_interest = defaultdict(list)\n",
    "\n",
    "for user_id, interest in interests:\n",
    "    user_ids_by_interest[interest].append(user_id)\n",
    "    \n",
    "user_ids_by_interest"
   ]
  },
  {
   "cell_type": "code",
   "execution_count": 79,
   "metadata": {},
   "outputs": [
    {
     "data": {
      "text/plain": [
       "defaultdict(list,\n",
       "            {0: ['Hadoop',\n",
       "              'Big Data',\n",
       "              'HBase',\n",
       "              'Java',\n",
       "              'Spark',\n",
       "              'Storm',\n",
       "              'Cassandra'],\n",
       "             1: ['NoSQL', 'MongoDB', 'Cassandra', 'HBase', 'Postgres'],\n",
       "             2: ['Python',\n",
       "              'scikit-learn',\n",
       "              'scipy',\n",
       "              'numpy',\n",
       "              'statsmodels',\n",
       "              'pandas'],\n",
       "             3: ['R', 'Python', 'statistics', 'regression', 'probability'],\n",
       "             4: ['machine learning', 'regression', 'decision trees', 'libsvm'],\n",
       "             5: ['Python',\n",
       "              'R',\n",
       "              'Java',\n",
       "              'C++',\n",
       "              'Haskell',\n",
       "              'programming languages'],\n",
       "             6: ['statistics', 'probability', 'mathematics', 'theory'],\n",
       "             7: ['machine learning',\n",
       "              'scikit-learn',\n",
       "              'Mahout',\n",
       "              'neural networks'],\n",
       "             8: ['neural networks',\n",
       "              'deep learning',\n",
       "              'Big Data',\n",
       "              'artificial intelligence'],\n",
       "             9: ['Hadoop', 'Java', 'MapReduce', 'Big Data']})"
      ]
     },
     "execution_count": 79,
     "metadata": {},
     "output_type": "execute_result"
    }
   ],
   "source": [
    "# 반대로 각 사용자별 interest\n",
    "interest_by_user_id = defaultdict(list)\n",
    "\n",
    "for user_id, interest in interests:\n",
    "    interest_by_user_id[user_id].append(interest)\n",
    "\n",
    "interest_by_user_id"
   ]
  },
  {
   "cell_type": "code",
   "execution_count": 82,
   "metadata": {},
   "outputs": [],
   "source": [
    "# 특정사용자와 같은 interest를 가진 사용자. \n",
    "def most_common_interest_with(user):\n",
    "    return  Counter(user_id \n",
    "                                    for interest in interest_by_user_id[user]\n",
    "                                    for user_id in user_ids_by_interest[interest]\n",
    "                                    if user_id != user)"
   ]
  },
  {
   "cell_type": "code",
   "execution_count": 84,
   "metadata": {},
   "outputs": [
    {
     "data": {
      "text/plain": [
       "Counter({1: 2, 5: 1, 8: 1, 9: 3})"
      ]
     },
     "execution_count": 84,
     "metadata": {},
     "output_type": "execute_result"
    }
   ],
   "source": [
    "most_common_interest_with(0)"
   ]
  },
  {
   "cell_type": "code",
   "execution_count": 85,
   "metadata": {},
   "outputs": [],
   "source": [
    "# 연봉 / 근속기간\n",
    "salaries_and_tenures = [(83000, 8.7), (88000, 8.1),\n",
    "                        (48000, 0.7), (76000, 6),\n",
    "                        (69000, 6.5), (76000, 7.5),\n",
    "                        (60000, 2.5), (83000, 10),\n",
    "                        (48000, 1.9), (63000, 4.2)]"
   ]
  },
  {
   "cell_type": "code",
   "execution_count": 86,
   "metadata": {},
   "outputs": [
    {
     "data": {
      "text/plain": [
       "{0.7: 48000.0,\n",
       " 1.9: 48000.0,\n",
       " 2.5: 60000.0,\n",
       " 4.2: 63000.0,\n",
       " 6: 76000.0,\n",
       " 6.5: 69000.0,\n",
       " 7.5: 76000.0,\n",
       " 8.1: 88000.0,\n",
       " 8.7: 83000.0,\n",
       " 10: 83000.0}"
      ]
     },
     "execution_count": 86,
     "metadata": {},
     "output_type": "execute_result"
    }
   ],
   "source": [
    "# 근속연수에 따라 평균 연봉이 어떻게 달라지는가\n",
    "salary_by_tenure = defaultdict(list)\n",
    "\n",
    "for salary, tenure in salaries_and_tenures :\n",
    "    salary_by_tenure[tenure].append(salary)\n",
    "\n",
    "average_salary_by_tenure = {\n",
    "    tenure : sum(salaries) / len(salaries)\n",
    "    for tenure, salaries in salary_by_tenure.items()\n",
    "}\n",
    "\n",
    "average_salary_by_tenure"
   ]
  },
  {
   "cell_type": "code",
   "execution_count": 88,
   "metadata": {},
   "outputs": [],
   "source": [
    "# 데이터 개수가 적어서 구간을 나눠보자\n",
    "def tenure_bucket(tenure) :\n",
    "    if tenure < 2:\n",
    "        return \"less than 2\"\n",
    "    elif tenure < 5 :\n",
    "        return \"between 2 and 5\"\n",
    "    else : \n",
    "        return \"more than 5\""
   ]
  },
  {
   "cell_type": "code",
   "execution_count": 91,
   "metadata": {},
   "outputs": [],
   "source": [
    "# 각 해당 bucket에 할당\n",
    "salary_by_tenure_bucket = defaultdict(list)\n",
    "for salary, tenure in salaries_and_tenures :\n",
    "    bucket = tenure_bucket(tenure)\n",
    "    salary_by_tenure_bucket[bucket].append(salary)"
   ]
  },
  {
   "cell_type": "code",
   "execution_count": 93,
   "metadata": {},
   "outputs": [
    {
     "data": {
      "text/plain": [
       "{'between 2 and 5': 61500.0,\n",
       " 'less than 2': 48000.0,\n",
       " 'more than 5': 79166.66666666667}"
      ]
     },
     "execution_count": 93,
     "metadata": {},
     "output_type": "execute_result"
    }
   ],
   "source": [
    "# 각 bucket의 평균 연봉\n",
    "average_salary_by_bucket = {\n",
    "    tenure_bucket : sum(salaries) / len(salaries)\n",
    "    for tenure_bucket, salaries in salary_by_tenure_bucket.items()\n",
    "}\n",
    "\n",
    "average_salary_by_bucket"
   ]
  },
  {
   "cell_type": "code",
   "execution_count": 98,
   "metadata": {},
   "outputs": [
    {
     "name": "stdout",
     "output_type": "stream",
     "text": [
      "hbase 2\n",
      "regression 2\n",
      "networks 2\n",
      "probability 2\n",
      "scikit-learn 2\n",
      "learning 3\n",
      "statistics 2\n",
      "hadoop 2\n",
      "java 3\n",
      "r 2\n",
      "cassandra 2\n",
      "neural 2\n",
      "data 3\n",
      "big 3\n",
      "machine 2\n",
      "python 3\n"
     ]
    }
   ],
   "source": [
    "# 단어의 개수 세기(자연어처리)\n",
    "words_and_counts = Counter(word \n",
    "                                                      for user, interest in interests\n",
    "                                                      for word in interest.lower().split())\n",
    "\n",
    "for word, count in words_and_counts.items():\n",
    "    if count>1:\n",
    "        print(word, count)"
   ]
  }
 ],
 "metadata": {
  "kernelspec": {
   "display_name": "Python 3",
   "language": "python",
   "name": "python3"
  },
  "language_info": {
   "codemirror_mode": {
    "name": "ipython",
    "version": 3
   },
   "file_extension": ".py",
   "mimetype": "text/x-python",
   "name": "python",
   "nbconvert_exporter": "python",
   "pygments_lexer": "ipython3",
   "version": "3.5.6"
  }
 },
 "nbformat": 4,
 "nbformat_minor": 2
}
